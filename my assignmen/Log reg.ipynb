{
 "cells": [
  {
   "cell_type": "markdown",
   "metadata": {
    "colab_type": "text",
    "id": "AM7jsfwALPlp"
   },
   "source": [
    "# Amazon Fine Food Reviews Analysis\n",
    "\n",
    "\n",
    "Data Source: https://www.kaggle.com/snap/amazon-fine-food-reviews <br>\n",
    "\n",
    "EDA: https://nycdatascience.com/blog/student-works/amazon-fine-foods-visualization/\n",
    "\n",
    "\n",
    "The Amazon Fine Food Reviews dataset consists of reviews of fine foods from Amazon.<br>\n",
    "\n",
    "Number of reviews: 568,454<br>\n",
    "Number of users: 256,059<br>\n",
    "Number of products: 74,258<br>\n",
    "Timespan: Oct 1999 - Oct 2012<br>\n",
    "Number of Attributes/Columns in data: 10 \n",
    "\n",
    "Attribute Information:\n",
    "\n",
    "1. Id\n",
    "2. ProductId - unique identifier for the product\n",
    "3. UserId - unqiue identifier for the user\n",
    "4. ProfileName\n",
    "5. HelpfulnessNumerator - number of users who found the review helpful\n",
    "6. HelpfulnessDenominator - number of users who indicated whether they found the review helpful or not\n",
    "7. Score - rating between 1 and 5\n",
    "8. Time - timestamp for the review\n",
    "9. Summary - brief summary of the review\n",
    "10. Text - text of the review\n",
    "\n",
    "\n",
    "#### Objective:\n",
    "Given a review, determine whether the review is positive (rating of 4 or 5) or negative (rating of 1 or 2).\n",
    "\n",
    "<br>\n",
    "[Q] How to determine if a review is positive or negative?<br>\n",
    "<br> \n",
    "[Ans] We could use Score/Rating. A rating of 4 or 5 can be cosnidered as a positive review. A rating of 1 or 2 can be considered as negative one. A review of rating 3 is considered nuetral and such reviews are ignored from our analysis. This is an approximate and proxy way of determining the polarity (positivity/negativity) of a review.\n",
    "\n",
    "\n"
   ]
  },
  {
   "cell_type": "markdown",
   "metadata": {
    "colab_type": "text",
    "id": "CaQ7XJ4OLPls"
   },
   "source": [
    "# [1]. Reading Data"
   ]
  },
  {
   "cell_type": "markdown",
   "metadata": {
    "colab_type": "text",
    "id": "5VnEBjKRLPlu"
   },
   "source": [
    "## [1.1] Loading the data\n",
    "\n",
    "The dataset is available in two forms\n",
    "1. .csv file\n",
    "2. SQLite Database\n",
    "\n",
    "In order to load the data, We have used the SQLITE dataset as it is easier to query the data and visualise the data efficiently.\n",
    "<br> \n",
    "\n",
    "Here as we only want to get the global sentiment of the recommendations (positive or negative), we will purposefully ignore all Scores equal to 3. If the score is above 3, then the recommendation wil be set to \"positive\". Otherwise, it will be set to \"negative\"."
   ]
  },
  {
   "cell_type": "code",
   "execution_count": 2,
   "metadata": {
    "colab": {},
    "colab_type": "code",
    "id": "x6YclOzXLPlv"
   },
   "outputs": [],
   "source": [
    "%matplotlib inline\n",
    "import warnings\n",
    "warnings.filterwarnings(\"ignore\")\n",
    "\n",
    "\n",
    "import sqlite3\n",
    "import pandas as pd\n",
    "import numpy as np\n",
    "import nltk\n",
    "import string\n",
    "import matplotlib.pyplot as plt\n",
    "import seaborn as sns\n",
    "from sklearn.feature_extraction.text import TfidfTransformer\n",
    "from sklearn.feature_extraction.text import TfidfVectorizer\n",
    "\n",
    "from sklearn.feature_extraction.text import CountVectorizer\n",
    "from sklearn.metrics import confusion_matrix\n",
    "from sklearn import metrics\n",
    "from sklearn.metrics import roc_curve, auc\n",
    "from nltk.stem.porter import PorterStemmer\n",
    "\n",
    "import re\n",
    "# Tutorial about Python regular expressions: https://pymotw.com/2/re/\n",
    "import string\n",
    "from nltk.corpus import stopwords\n",
    "from nltk.stem import PorterStemmer\n",
    "from nltk.stem.wordnet import WordNetLemmatizer\n",
    "\n",
    "from gensim.models import Word2Vec\n",
    "from gensim.models import KeyedVectors\n",
    "import pickle\n",
    "\n",
    "from tqdm import tqdm\n",
    "import os"
   ]
  },
  {
   "cell_type": "code",
   "execution_count": 3,
   "metadata": {
    "colab": {},
    "colab_type": "code",
    "id": "NZ4OSpSiLPl0",
    "outputId": "241c4c64-6186-4351-e38f-fcd06c6896dd"
   },
   "outputs": [
    {
     "name": "stdout",
     "output_type": "stream",
     "text": [
      "Number of data points in our data (500000, 10)\n"
     ]
    },
    {
     "data": {
      "text/html": [
       "<div>\n",
       "<style scoped>\n",
       "    .dataframe tbody tr th:only-of-type {\n",
       "        vertical-align: middle;\n",
       "    }\n",
       "\n",
       "    .dataframe tbody tr th {\n",
       "        vertical-align: top;\n",
       "    }\n",
       "\n",
       "    .dataframe thead th {\n",
       "        text-align: right;\n",
       "    }\n",
       "</style>\n",
       "<table border=\"1\" class=\"dataframe\">\n",
       "  <thead>\n",
       "    <tr style=\"text-align: right;\">\n",
       "      <th></th>\n",
       "      <th>Id</th>\n",
       "      <th>ProductId</th>\n",
       "      <th>UserId</th>\n",
       "      <th>ProfileName</th>\n",
       "      <th>HelpfulnessNumerator</th>\n",
       "      <th>HelpfulnessDenominator</th>\n",
       "      <th>Score</th>\n",
       "      <th>Time</th>\n",
       "      <th>Summary</th>\n",
       "      <th>Text</th>\n",
       "    </tr>\n",
       "  </thead>\n",
       "  <tbody>\n",
       "    <tr>\n",
       "      <th>0</th>\n",
       "      <td>1</td>\n",
       "      <td>B001E4KFG0</td>\n",
       "      <td>A3SGXH7AUHU8GW</td>\n",
       "      <td>delmartian</td>\n",
       "      <td>1</td>\n",
       "      <td>1</td>\n",
       "      <td>1</td>\n",
       "      <td>1303862400</td>\n",
       "      <td>Good Quality Dog Food</td>\n",
       "      <td>I have bought several of the Vitality canned d...</td>\n",
       "    </tr>\n",
       "    <tr>\n",
       "      <th>1</th>\n",
       "      <td>2</td>\n",
       "      <td>B00813GRG4</td>\n",
       "      <td>A1D87F6ZCVE5NK</td>\n",
       "      <td>dll pa</td>\n",
       "      <td>0</td>\n",
       "      <td>0</td>\n",
       "      <td>0</td>\n",
       "      <td>1346976000</td>\n",
       "      <td>Not as Advertised</td>\n",
       "      <td>Product arrived labeled as Jumbo Salted Peanut...</td>\n",
       "    </tr>\n",
       "    <tr>\n",
       "      <th>2</th>\n",
       "      <td>3</td>\n",
       "      <td>B000LQOCH0</td>\n",
       "      <td>ABXLMWJIXXAIN</td>\n",
       "      <td>Natalia Corres \"Natalia Corres\"</td>\n",
       "      <td>1</td>\n",
       "      <td>1</td>\n",
       "      <td>1</td>\n",
       "      <td>1219017600</td>\n",
       "      <td>\"Delight\" says it all</td>\n",
       "      <td>This is a confection that has been around a fe...</td>\n",
       "    </tr>\n",
       "  </tbody>\n",
       "</table>\n",
       "</div>"
      ],
      "text/plain": [
       "   Id   ProductId          UserId                      ProfileName  \\\n",
       "0   1  B001E4KFG0  A3SGXH7AUHU8GW                       delmartian   \n",
       "1   2  B00813GRG4  A1D87F6ZCVE5NK                           dll pa   \n",
       "2   3  B000LQOCH0   ABXLMWJIXXAIN  Natalia Corres \"Natalia Corres\"   \n",
       "\n",
       "   HelpfulnessNumerator  HelpfulnessDenominator  Score        Time  \\\n",
       "0                     1                       1      1  1303862400   \n",
       "1                     0                       0      0  1346976000   \n",
       "2                     1                       1      1  1219017600   \n",
       "\n",
       "                 Summary                                               Text  \n",
       "0  Good Quality Dog Food  I have bought several of the Vitality canned d...  \n",
       "1      Not as Advertised  Product arrived labeled as Jumbo Salted Peanut...  \n",
       "2  \"Delight\" says it all  This is a confection that has been around a fe...  "
      ]
     },
     "execution_count": 3,
     "metadata": {},
     "output_type": "execute_result"
    }
   ],
   "source": [
    "# using SQLite Table to read data.\n",
    "con = sqlite3.connect('database.sqlite') \n",
    "\n",
    "# filtering only positive and negative reviews i.e. \n",
    "# not taking into consideration those reviews with Score=3\n",
    "# SELECT * FROM Reviews WHERE Score != 3 LIMIT 500000, will give top 500000 data points\n",
    "# you can change the number to any other number based on your computing power\n",
    "\n",
    "# filtered_data = pd.read_sql_query(\"\"\" SELECT * FROM Reviews WHERE Score != 3 LIMIT 500000\"\"\", con) \n",
    "# for tsne assignment you can take 5k data points\n",
    "\n",
    "filtered_data = pd.read_sql_query(\"\"\" SELECT * FROM Reviews WHERE Score != 3 LIMIT 500000\"\"\", con) \n",
    "\n",
    "# Give reviews with Score>3 a positive rating(1), and reviews with a score<3 a negative rating(0).\n",
    "def partition(x):\n",
    "    if x < 3:\n",
    "        return 0\n",
    "    return 1\n",
    "\n",
    "#changing reviews with score less than 3 to be positive and vice-versa\n",
    "actualScore = filtered_data['Score']\n",
    "positiveNegative = actualScore.map(partition) \n",
    "filtered_data['Score'] = positiveNegative\n",
    "print(\"Number of data points in our data\", filtered_data.shape)\n",
    "filtered_data.head(3)"
   ]
  },
  {
   "cell_type": "code",
   "execution_count": 4,
   "metadata": {
    "colab": {},
    "colab_type": "code",
    "id": "r44Y4VDjLPl7"
   },
   "outputs": [],
   "source": [
    "display = pd.read_sql_query(\"\"\"\n",
    "SELECT UserId, ProductId, ProfileName, Time, Score, Text, COUNT(*)\n",
    "FROM Reviews\n",
    "GROUP BY UserId\n",
    "HAVING COUNT(*)>1\n",
    "\"\"\", con)"
   ]
  },
  {
   "cell_type": "code",
   "execution_count": 5,
   "metadata": {
    "colab": {},
    "colab_type": "code",
    "id": "tTwINQv1LPl_",
    "outputId": "0385b9ca-0a35-4c2b-b656-8e8494414e6f",
    "scrolled": true
   },
   "outputs": [
    {
     "name": "stdout",
     "output_type": "stream",
     "text": [
      "(80668, 7)\n"
     ]
    },
    {
     "data": {
      "text/html": [
       "<div>\n",
       "<style scoped>\n",
       "    .dataframe tbody tr th:only-of-type {\n",
       "        vertical-align: middle;\n",
       "    }\n",
       "\n",
       "    .dataframe tbody tr th {\n",
       "        vertical-align: top;\n",
       "    }\n",
       "\n",
       "    .dataframe thead th {\n",
       "        text-align: right;\n",
       "    }\n",
       "</style>\n",
       "<table border=\"1\" class=\"dataframe\">\n",
       "  <thead>\n",
       "    <tr style=\"text-align: right;\">\n",
       "      <th></th>\n",
       "      <th>UserId</th>\n",
       "      <th>ProductId</th>\n",
       "      <th>ProfileName</th>\n",
       "      <th>Time</th>\n",
       "      <th>Score</th>\n",
       "      <th>Text</th>\n",
       "      <th>COUNT(*)</th>\n",
       "    </tr>\n",
       "  </thead>\n",
       "  <tbody>\n",
       "    <tr>\n",
       "      <th>0</th>\n",
       "      <td>#oc-R115TNMSPFT9I7</td>\n",
       "      <td>B005ZBZLT4</td>\n",
       "      <td>Breyton</td>\n",
       "      <td>1331510400</td>\n",
       "      <td>2</td>\n",
       "      <td>Overall its just OK when considering the price...</td>\n",
       "      <td>2</td>\n",
       "    </tr>\n",
       "    <tr>\n",
       "      <th>1</th>\n",
       "      <td>#oc-R11D9D7SHXIJB9</td>\n",
       "      <td>B005HG9ESG</td>\n",
       "      <td>Louis E. Emory \"hoppy\"</td>\n",
       "      <td>1342396800</td>\n",
       "      <td>5</td>\n",
       "      <td>My wife has recurring extreme muscle spasms, u...</td>\n",
       "      <td>3</td>\n",
       "    </tr>\n",
       "    <tr>\n",
       "      <th>2</th>\n",
       "      <td>#oc-R11DNU2NBKQ23Z</td>\n",
       "      <td>B005ZBZLT4</td>\n",
       "      <td>Kim Cieszykowski</td>\n",
       "      <td>1348531200</td>\n",
       "      <td>1</td>\n",
       "      <td>This coffee is horrible and unfortunately not ...</td>\n",
       "      <td>2</td>\n",
       "    </tr>\n",
       "    <tr>\n",
       "      <th>3</th>\n",
       "      <td>#oc-R11O5J5ZVQE25C</td>\n",
       "      <td>B005HG9ESG</td>\n",
       "      <td>Penguin Chick</td>\n",
       "      <td>1346889600</td>\n",
       "      <td>5</td>\n",
       "      <td>This will be the bottle that you grab from the...</td>\n",
       "      <td>3</td>\n",
       "    </tr>\n",
       "    <tr>\n",
       "      <th>4</th>\n",
       "      <td>#oc-R12KPBODL2B5ZD</td>\n",
       "      <td>B007OSBEV0</td>\n",
       "      <td>Christopher P. Presta</td>\n",
       "      <td>1348617600</td>\n",
       "      <td>1</td>\n",
       "      <td>I didnt like this coffee. Instead of telling y...</td>\n",
       "      <td>2</td>\n",
       "    </tr>\n",
       "  </tbody>\n",
       "</table>\n",
       "</div>"
      ],
      "text/plain": [
       "               UserId   ProductId             ProfileName        Time  Score  \\\n",
       "0  #oc-R115TNMSPFT9I7  B005ZBZLT4                 Breyton  1331510400      2   \n",
       "1  #oc-R11D9D7SHXIJB9  B005HG9ESG  Louis E. Emory \"hoppy\"  1342396800      5   \n",
       "2  #oc-R11DNU2NBKQ23Z  B005ZBZLT4        Kim Cieszykowski  1348531200      1   \n",
       "3  #oc-R11O5J5ZVQE25C  B005HG9ESG           Penguin Chick  1346889600      5   \n",
       "4  #oc-R12KPBODL2B5ZD  B007OSBEV0   Christopher P. Presta  1348617600      1   \n",
       "\n",
       "                                                Text  COUNT(*)  \n",
       "0  Overall its just OK when considering the price...         2  \n",
       "1  My wife has recurring extreme muscle spasms, u...         3  \n",
       "2  This coffee is horrible and unfortunately not ...         2  \n",
       "3  This will be the bottle that you grab from the...         3  \n",
       "4  I didnt like this coffee. Instead of telling y...         2  "
      ]
     },
     "execution_count": 5,
     "metadata": {},
     "output_type": "execute_result"
    }
   ],
   "source": [
    "print(display.shape)\n",
    "display.head()"
   ]
  },
  {
   "cell_type": "code",
   "execution_count": 6,
   "metadata": {
    "colab": {},
    "colab_type": "code",
    "id": "EOslHQgnLPmF",
    "outputId": "cb28598d-470a-42bb-e742-4763f953c8cb"
   },
   "outputs": [
    {
     "data": {
      "text/html": [
       "<div>\n",
       "<style scoped>\n",
       "    .dataframe tbody tr th:only-of-type {\n",
       "        vertical-align: middle;\n",
       "    }\n",
       "\n",
       "    .dataframe tbody tr th {\n",
       "        vertical-align: top;\n",
       "    }\n",
       "\n",
       "    .dataframe thead th {\n",
       "        text-align: right;\n",
       "    }\n",
       "</style>\n",
       "<table border=\"1\" class=\"dataframe\">\n",
       "  <thead>\n",
       "    <tr style=\"text-align: right;\">\n",
       "      <th></th>\n",
       "      <th>UserId</th>\n",
       "      <th>ProductId</th>\n",
       "      <th>ProfileName</th>\n",
       "      <th>Time</th>\n",
       "      <th>Score</th>\n",
       "      <th>Text</th>\n",
       "      <th>COUNT(*)</th>\n",
       "    </tr>\n",
       "  </thead>\n",
       "  <tbody>\n",
       "    <tr>\n",
       "      <th>80638</th>\n",
       "      <td>AZY10LLTJ71NX</td>\n",
       "      <td>B001ATMQK2</td>\n",
       "      <td>undertheshrine \"undertheshrine\"</td>\n",
       "      <td>1296691200</td>\n",
       "      <td>5</td>\n",
       "      <td>I bought this 6 pack because for the price tha...</td>\n",
       "      <td>5</td>\n",
       "    </tr>\n",
       "  </tbody>\n",
       "</table>\n",
       "</div>"
      ],
      "text/plain": [
       "              UserId   ProductId                      ProfileName        Time  \\\n",
       "80638  AZY10LLTJ71NX  B001ATMQK2  undertheshrine \"undertheshrine\"  1296691200   \n",
       "\n",
       "       Score                                               Text  COUNT(*)  \n",
       "80638      5  I bought this 6 pack because for the price tha...         5  "
      ]
     },
     "execution_count": 6,
     "metadata": {},
     "output_type": "execute_result"
    }
   ],
   "source": [
    "display[display['UserId']=='AZY10LLTJ71NX']"
   ]
  },
  {
   "cell_type": "code",
   "execution_count": 7,
   "metadata": {
    "colab": {},
    "colab_type": "code",
    "id": "pSwF4sdoLPmM",
    "outputId": "2f3bd7f2-0eea-45f7-eab6-bf08c630d9a3"
   },
   "outputs": [
    {
     "data": {
      "text/plain": [
       "393063"
      ]
     },
     "execution_count": 7,
     "metadata": {},
     "output_type": "execute_result"
    }
   ],
   "source": [
    "display['COUNT(*)'].sum()"
   ]
  },
  {
   "cell_type": "markdown",
   "metadata": {
    "colab_type": "text",
    "id": "PuNkhjz0LPmQ"
   },
   "source": [
    "#  [2] Exploratory Data Analysis"
   ]
  },
  {
   "cell_type": "markdown",
   "metadata": {
    "colab_type": "text",
    "id": "oCJaTWrTLPmS"
   },
   "source": [
    "## [2.1] Data Cleaning: Deduplication\n",
    "\n",
    "It is observed (as shown in the table below) that the reviews data had many duplicate entries. Hence it was necessary to remove duplicates in order to get unbiased results for the analysis of the data.  Following is an example:"
   ]
  },
  {
   "cell_type": "code",
   "execution_count": 8,
   "metadata": {
    "colab": {},
    "colab_type": "code",
    "id": "3lvzRwWVLPmT",
    "outputId": "96ba6f90-6c40-4972-ecd2-d2d208e48877",
    "scrolled": false
   },
   "outputs": [
    {
     "data": {
      "text/html": [
       "<div>\n",
       "<style scoped>\n",
       "    .dataframe tbody tr th:only-of-type {\n",
       "        vertical-align: middle;\n",
       "    }\n",
       "\n",
       "    .dataframe tbody tr th {\n",
       "        vertical-align: top;\n",
       "    }\n",
       "\n",
       "    .dataframe thead th {\n",
       "        text-align: right;\n",
       "    }\n",
       "</style>\n",
       "<table border=\"1\" class=\"dataframe\">\n",
       "  <thead>\n",
       "    <tr style=\"text-align: right;\">\n",
       "      <th></th>\n",
       "      <th>Id</th>\n",
       "      <th>ProductId</th>\n",
       "      <th>UserId</th>\n",
       "      <th>ProfileName</th>\n",
       "      <th>HelpfulnessNumerator</th>\n",
       "      <th>HelpfulnessDenominator</th>\n",
       "      <th>Score</th>\n",
       "      <th>Time</th>\n",
       "      <th>Summary</th>\n",
       "      <th>Text</th>\n",
       "    </tr>\n",
       "  </thead>\n",
       "  <tbody>\n",
       "    <tr>\n",
       "      <th>0</th>\n",
       "      <td>78445</td>\n",
       "      <td>B000HDL1RQ</td>\n",
       "      <td>AR5J8UI46CURR</td>\n",
       "      <td>Geetha Krishnan</td>\n",
       "      <td>2</td>\n",
       "      <td>2</td>\n",
       "      <td>5</td>\n",
       "      <td>1199577600</td>\n",
       "      <td>LOACKER QUADRATINI VANILLA WAFERS</td>\n",
       "      <td>DELICIOUS WAFERS. I FIND THAT EUROPEAN WAFERS ...</td>\n",
       "    </tr>\n",
       "    <tr>\n",
       "      <th>1</th>\n",
       "      <td>138317</td>\n",
       "      <td>B000HDOPYC</td>\n",
       "      <td>AR5J8UI46CURR</td>\n",
       "      <td>Geetha Krishnan</td>\n",
       "      <td>2</td>\n",
       "      <td>2</td>\n",
       "      <td>5</td>\n",
       "      <td>1199577600</td>\n",
       "      <td>LOACKER QUADRATINI VANILLA WAFERS</td>\n",
       "      <td>DELICIOUS WAFERS. I FIND THAT EUROPEAN WAFERS ...</td>\n",
       "    </tr>\n",
       "    <tr>\n",
       "      <th>2</th>\n",
       "      <td>138277</td>\n",
       "      <td>B000HDOPYM</td>\n",
       "      <td>AR5J8UI46CURR</td>\n",
       "      <td>Geetha Krishnan</td>\n",
       "      <td>2</td>\n",
       "      <td>2</td>\n",
       "      <td>5</td>\n",
       "      <td>1199577600</td>\n",
       "      <td>LOACKER QUADRATINI VANILLA WAFERS</td>\n",
       "      <td>DELICIOUS WAFERS. I FIND THAT EUROPEAN WAFERS ...</td>\n",
       "    </tr>\n",
       "    <tr>\n",
       "      <th>3</th>\n",
       "      <td>73791</td>\n",
       "      <td>B000HDOPZG</td>\n",
       "      <td>AR5J8UI46CURR</td>\n",
       "      <td>Geetha Krishnan</td>\n",
       "      <td>2</td>\n",
       "      <td>2</td>\n",
       "      <td>5</td>\n",
       "      <td>1199577600</td>\n",
       "      <td>LOACKER QUADRATINI VANILLA WAFERS</td>\n",
       "      <td>DELICIOUS WAFERS. I FIND THAT EUROPEAN WAFERS ...</td>\n",
       "    </tr>\n",
       "    <tr>\n",
       "      <th>4</th>\n",
       "      <td>155049</td>\n",
       "      <td>B000PAQ75C</td>\n",
       "      <td>AR5J8UI46CURR</td>\n",
       "      <td>Geetha Krishnan</td>\n",
       "      <td>2</td>\n",
       "      <td>2</td>\n",
       "      <td>5</td>\n",
       "      <td>1199577600</td>\n",
       "      <td>LOACKER QUADRATINI VANILLA WAFERS</td>\n",
       "      <td>DELICIOUS WAFERS. I FIND THAT EUROPEAN WAFERS ...</td>\n",
       "    </tr>\n",
       "  </tbody>\n",
       "</table>\n",
       "</div>"
      ],
      "text/plain": [
       "       Id   ProductId         UserId      ProfileName  HelpfulnessNumerator  \\\n",
       "0   78445  B000HDL1RQ  AR5J8UI46CURR  Geetha Krishnan                     2   \n",
       "1  138317  B000HDOPYC  AR5J8UI46CURR  Geetha Krishnan                     2   \n",
       "2  138277  B000HDOPYM  AR5J8UI46CURR  Geetha Krishnan                     2   \n",
       "3   73791  B000HDOPZG  AR5J8UI46CURR  Geetha Krishnan                     2   \n",
       "4  155049  B000PAQ75C  AR5J8UI46CURR  Geetha Krishnan                     2   \n",
       "\n",
       "   HelpfulnessDenominator  Score        Time  \\\n",
       "0                       2      5  1199577600   \n",
       "1                       2      5  1199577600   \n",
       "2                       2      5  1199577600   \n",
       "3                       2      5  1199577600   \n",
       "4                       2      5  1199577600   \n",
       "\n",
       "                             Summary  \\\n",
       "0  LOACKER QUADRATINI VANILLA WAFERS   \n",
       "1  LOACKER QUADRATINI VANILLA WAFERS   \n",
       "2  LOACKER QUADRATINI VANILLA WAFERS   \n",
       "3  LOACKER QUADRATINI VANILLA WAFERS   \n",
       "4  LOACKER QUADRATINI VANILLA WAFERS   \n",
       "\n",
       "                                                Text  \n",
       "0  DELICIOUS WAFERS. I FIND THAT EUROPEAN WAFERS ...  \n",
       "1  DELICIOUS WAFERS. I FIND THAT EUROPEAN WAFERS ...  \n",
       "2  DELICIOUS WAFERS. I FIND THAT EUROPEAN WAFERS ...  \n",
       "3  DELICIOUS WAFERS. I FIND THAT EUROPEAN WAFERS ...  \n",
       "4  DELICIOUS WAFERS. I FIND THAT EUROPEAN WAFERS ...  "
      ]
     },
     "execution_count": 8,
     "metadata": {},
     "output_type": "execute_result"
    }
   ],
   "source": [
    "display= pd.read_sql_query(\"\"\"\n",
    "SELECT *\n",
    "FROM Reviews\n",
    "WHERE Score != 3 AND UserId=\"AR5J8UI46CURR\"\n",
    "ORDER BY ProductID\n",
    "\"\"\", con)\n",
    "display.head()"
   ]
  },
  {
   "cell_type": "markdown",
   "metadata": {
    "colab_type": "text",
    "id": "uT7p9_deLPmb"
   },
   "source": [
    "As it can be seen above that same user has multiple reviews with same values for HelpfulnessNumerator, HelpfulnessDenominator, Score, Time, Summary and Text and on doing analysis it was found that <br>\n",
    "<br> \n",
    "ProductId=B000HDOPZG was Loacker Quadratini Vanilla Wafer Cookies, 8.82-Ounce Packages (Pack of 8)<br>\n",
    "<br> \n",
    "ProductId=B000HDL1RQ was Loacker Quadratini Lemon Wafer Cookies, 8.82-Ounce Packages (Pack of 8) and so on<br>\n",
    "\n",
    "It was inferred after analysis that reviews with same parameters other than ProductId belonged to the same product just having different flavour or quantity. Hence in order to reduce redundancy it was decided to eliminate the rows having same parameters.<br>\n",
    "\n",
    "The method used for the same was that we first sort the data according to ProductId and then just keep the first similar product review and delelte the others. for eg. in the above just the review for ProductId=B000HDL1RQ remains. This method ensures that there is only one representative for each product and deduplication without sorting would lead to possibility of different representatives still existing for the same product."
   ]
  },
  {
   "cell_type": "code",
   "execution_count": 9,
   "metadata": {
    "colab": {},
    "colab_type": "code",
    "id": "mdsKFc50LPme"
   },
   "outputs": [],
   "source": [
    "#Sorting data according to ProductId in ascending order\n",
    "sorted_data=filtered_data.sort_values('ProductId', axis=0, ascending=True, inplace=False, kind='quicksort', na_position='last')"
   ]
  },
  {
   "cell_type": "code",
   "execution_count": 10,
   "metadata": {
    "colab": {},
    "colab_type": "code",
    "id": "2itLgX-NLPmk",
    "outputId": "ac765625-dfdc-4e4e-f886-bd3b7ca3635a"
   },
   "outputs": [
    {
     "data": {
      "text/plain": [
       "(348262, 10)"
      ]
     },
     "execution_count": 10,
     "metadata": {},
     "output_type": "execute_result"
    }
   ],
   "source": [
    "#Deduplication of entries\n",
    "final=sorted_data.drop_duplicates(subset={\"UserId\",\"ProfileName\",\"Time\",\"Text\"}, keep='first', inplace=False)\n",
    "final.shape"
   ]
  },
  {
   "cell_type": "code",
   "execution_count": 11,
   "metadata": {
    "colab": {},
    "colab_type": "code",
    "id": "IBU4iZk4LPmt",
    "outputId": "ceeba223-fe3f-407a-b4e5-0d46c08f69dd"
   },
   "outputs": [
    {
     "data": {
      "text/plain": [
       "69.6524"
      ]
     },
     "execution_count": 11,
     "metadata": {},
     "output_type": "execute_result"
    }
   ],
   "source": [
    "#Checking to see how much % of data still remains\n",
    "(final['Id'].size*1.0)/(filtered_data['Id'].size*1.0)*100"
   ]
  },
  {
   "cell_type": "markdown",
   "metadata": {
    "colab_type": "text",
    "id": "gFBOfSe4LPmy"
   },
   "source": [
    "<b>Observation:-</b> It was also seen that in two rows given below the value of HelpfulnessNumerator is greater than HelpfulnessDenominator which is not practically possible hence these two rows too are removed from calcualtions"
   ]
  },
  {
   "cell_type": "code",
   "execution_count": 12,
   "metadata": {
    "colab": {},
    "colab_type": "code",
    "id": "50flE40lLPmz",
    "outputId": "b6c7e38e-25c1-4a48-be1f-70fdf31aba13"
   },
   "outputs": [
    {
     "data": {
      "text/html": [
       "<div>\n",
       "<style scoped>\n",
       "    .dataframe tbody tr th:only-of-type {\n",
       "        vertical-align: middle;\n",
       "    }\n",
       "\n",
       "    .dataframe tbody tr th {\n",
       "        vertical-align: top;\n",
       "    }\n",
       "\n",
       "    .dataframe thead th {\n",
       "        text-align: right;\n",
       "    }\n",
       "</style>\n",
       "<table border=\"1\" class=\"dataframe\">\n",
       "  <thead>\n",
       "    <tr style=\"text-align: right;\">\n",
       "      <th></th>\n",
       "      <th>Id</th>\n",
       "      <th>ProductId</th>\n",
       "      <th>UserId</th>\n",
       "      <th>ProfileName</th>\n",
       "      <th>HelpfulnessNumerator</th>\n",
       "      <th>HelpfulnessDenominator</th>\n",
       "      <th>Score</th>\n",
       "      <th>Time</th>\n",
       "      <th>Summary</th>\n",
       "      <th>Text</th>\n",
       "    </tr>\n",
       "  </thead>\n",
       "  <tbody>\n",
       "    <tr>\n",
       "      <th>0</th>\n",
       "      <td>64422</td>\n",
       "      <td>B000MIDROQ</td>\n",
       "      <td>A161DK06JJMCYF</td>\n",
       "      <td>J. E. Stephens \"Jeanne\"</td>\n",
       "      <td>3</td>\n",
       "      <td>1</td>\n",
       "      <td>5</td>\n",
       "      <td>1224892800</td>\n",
       "      <td>Bought This for My Son at College</td>\n",
       "      <td>My son loves spaghetti so I didn't hesitate or...</td>\n",
       "    </tr>\n",
       "    <tr>\n",
       "      <th>1</th>\n",
       "      <td>44737</td>\n",
       "      <td>B001EQ55RW</td>\n",
       "      <td>A2V0I904FH7ABY</td>\n",
       "      <td>Ram</td>\n",
       "      <td>3</td>\n",
       "      <td>2</td>\n",
       "      <td>4</td>\n",
       "      <td>1212883200</td>\n",
       "      <td>Pure cocoa taste with crunchy almonds inside</td>\n",
       "      <td>It was almost a 'love at first bite' - the per...</td>\n",
       "    </tr>\n",
       "  </tbody>\n",
       "</table>\n",
       "</div>"
      ],
      "text/plain": [
       "      Id   ProductId          UserId              ProfileName  \\\n",
       "0  64422  B000MIDROQ  A161DK06JJMCYF  J. E. Stephens \"Jeanne\"   \n",
       "1  44737  B001EQ55RW  A2V0I904FH7ABY                      Ram   \n",
       "\n",
       "   HelpfulnessNumerator  HelpfulnessDenominator  Score        Time  \\\n",
       "0                     3                       1      5  1224892800   \n",
       "1                     3                       2      4  1212883200   \n",
       "\n",
       "                                        Summary  \\\n",
       "0             Bought This for My Son at College   \n",
       "1  Pure cocoa taste with crunchy almonds inside   \n",
       "\n",
       "                                                Text  \n",
       "0  My son loves spaghetti so I didn't hesitate or...  \n",
       "1  It was almost a 'love at first bite' - the per...  "
      ]
     },
     "execution_count": 12,
     "metadata": {},
     "output_type": "execute_result"
    }
   ],
   "source": [
    "display= pd.read_sql_query(\"\"\"\n",
    "SELECT *\n",
    "FROM Reviews\n",
    "WHERE Score != 3 AND Id=44737 OR Id=64422\n",
    "ORDER BY ProductID\n",
    "\"\"\", con)\n",
    "\n",
    "display.head()"
   ]
  },
  {
   "cell_type": "code",
   "execution_count": 13,
   "metadata": {
    "colab": {},
    "colab_type": "code",
    "id": "0YTPJMLTLPm7"
   },
   "outputs": [],
   "source": [
    "final=final[final.HelpfulnessNumerator<=final.HelpfulnessDenominator]"
   ]
  },
  {
   "cell_type": "code",
   "execution_count": 14,
   "metadata": {
    "colab": {},
    "colab_type": "code",
    "id": "LVJ_l-x2LPnC",
    "outputId": "d4a19c7a-16fe-4b5b-c3d1-aa1ef0f948a0"
   },
   "outputs": [
    {
     "name": "stdout",
     "output_type": "stream",
     "text": [
      "(348260, 10)\n"
     ]
    },
    {
     "data": {
      "text/plain": [
       "1    293516\n",
       "0     54744\n",
       "Name: Score, dtype: int64"
      ]
     },
     "execution_count": 14,
     "metadata": {},
     "output_type": "execute_result"
    }
   ],
   "source": [
    "#Before starting the next phase of preprocessing lets see the number of entries left\n",
    "print(final.shape)\n",
    "\n",
    "#How many positive and negative reviews are present in our dataset?\n",
    "final['Score'].value_counts()"
   ]
  },
  {
   "cell_type": "markdown",
   "metadata": {
    "colab_type": "text",
    "id": "GrTYWzYrLPnH"
   },
   "source": [
    "#  [3] Preprocessing"
   ]
  },
  {
   "cell_type": "markdown",
   "metadata": {
    "colab_type": "text",
    "id": "zbvLitZeLPnI"
   },
   "source": [
    "## [3.1].  Preprocessing Review Text\n",
    "\n",
    "Now that we have finished deduplication our data requires some preprocessing before we go on further with analysis and making the prediction model.\n",
    "\n",
    "Hence in the Preprocessing phase we do the following in the order below:-\n",
    "\n",
    "1. Begin by removing the html tags\n",
    "2. Remove any punctuations or limited set of special characters like , or . or # etc.\n",
    "3. Check if the word is made up of english letters and is not alpha-numeric\n",
    "4. Check to see if the length of the word is greater than 2 (as it was researched that there is no adjective in 2-letters)\n",
    "5. Convert the word to lowercase\n",
    "6. Remove Stopwords\n",
    "7. Finally Snowball Stemming the word (it was obsereved to be better than Porter Stemming)<br>\n",
    "\n",
    "After which we collect the words used to describe positive and negative reviews"
   ]
  },
  {
   "cell_type": "code",
   "execution_count": 15,
   "metadata": {
    "colab": {},
    "colab_type": "code",
    "id": "yYDc0ZXALPnK",
    "outputId": "5403fab9-796a-493d-f9d3-2a410d004f64"
   },
   "outputs": [
    {
     "name": "stdout",
     "output_type": "stream",
     "text": [
      "This book was purchased as a birthday gift for a 4 year old boy. He squealed with delight and hugged it when told it was his to keep and he did not have to return it to the library.\n",
      "==================================================\n",
      "I've purchased both the Espressione Espresso (classic) and the 100% Arabica.  My vote is definitely with the 100% Arabica.  The flavor has more bite and flavor (much more like European coffee than American).\n",
      "==================================================\n",
      "This is a great product. It is very healthy for all of our dogs, and it is the first food that they all love to eat. It helped my older dog lose weight and my 10 year old lab gain the weight he needed to be healthy.\n",
      "==================================================\n",
      "I find everything I need at Amazon so I always look there first. Chocolate tennis balls for a tennis party, perfect! They were the size of malted milk balls. Unfortunately, they arrived 3 days after the party. The caveat here is, not everything from Amazon may arrive at an impressive 2 or 3 days. This shipment took 8 days from the Candy/Cosmetic Depot back east to southern California.\n",
      "==================================================\n"
     ]
    }
   ],
   "source": [
    "# printing some random reviews\n",
    "sent_0 = final['Text'].values[0]\n",
    "print(sent_0)\n",
    "print(\"=\"*50)\n",
    "\n",
    "sent_1000 = final['Text'].values[1000]\n",
    "print(sent_1000)\n",
    "print(\"=\"*50)\n",
    "\n",
    "sent_1500 = final['Text'].values[1500]\n",
    "print(sent_1500)\n",
    "print(\"=\"*50)\n",
    "\n",
    "sent_4900 = final['Text'].values[4900]\n",
    "print(sent_4900)\n",
    "print(\"=\"*50)"
   ]
  },
  {
   "cell_type": "code",
   "execution_count": 16,
   "metadata": {
    "colab": {},
    "colab_type": "code",
    "id": "AxYh-wPiLPnS",
    "outputId": "31bddcb2-6c52-4b16-f9fb-c03d5b3bb7c8"
   },
   "outputs": [
    {
     "name": "stdout",
     "output_type": "stream",
     "text": [
      "This book was purchased as a birthday gift for a 4 year old boy. He squealed with delight and hugged it when told it was his to keep and he did not have to return it to the library.\n"
     ]
    }
   ],
   "source": [
    "# remove urls from text python: https://stackoverflow.com/a/40823105/4084039\n",
    "sent_0 = re.sub(r\"http\\S+\", \"\", sent_0)\n",
    "sent_1000 = re.sub(r\"http\\S+\", \"\", sent_1000)\n",
    "sent_150 = re.sub(r\"http\\S+\", \"\", sent_1500)\n",
    "sent_4900 = re.sub(r\"http\\S+\", \"\", sent_4900)\n",
    "\n",
    "print(sent_0)"
   ]
  },
  {
   "cell_type": "code",
   "execution_count": 19,
   "metadata": {
    "colab": {},
    "colab_type": "code",
    "id": "BEtpMkhULPnt"
   },
   "outputs": [],
   "source": [
    "# https://stackoverflow.com/a/47091490/4084039\n",
    "import re\n",
    "\n",
    "def decontracted(phrase):\n",
    "    # specific\n",
    "    phrase = re.sub(r\"won't\", \"will not\", phrase)\n",
    "    phrase = re.sub(r\"can\\'t\", \"can not\", phrase)\n",
    "\n",
    "    # general\n",
    "    phrase = re.sub(r\"n\\'t\", \" not\", phrase)\n",
    "    phrase = re.sub(r\"\\'re\", \" are\", phrase)\n",
    "    phrase = re.sub(r\"\\'s\", \" is\", phrase)\n",
    "    phrase = re.sub(r\"\\'d\", \" would\", phrase)\n",
    "    phrase = re.sub(r\"\\'ll\", \" will\", phrase)\n",
    "    phrase = re.sub(r\"\\'t\", \" not\", phrase)\n",
    "    phrase = re.sub(r\"\\'ve\", \" have\", phrase)\n",
    "    phrase = re.sub(r\"\\'m\", \" am\", phrase)\n",
    "    return phrase"
   ]
  },
  {
   "cell_type": "code",
   "execution_count": 20,
   "metadata": {
    "colab": {},
    "colab_type": "code",
    "id": "GavAnzNjLPnx",
    "outputId": "517fca9a-b1b6-4c6c-ab33-4c5ac4a5bd62"
   },
   "outputs": [
    {
     "name": "stdout",
     "output_type": "stream",
     "text": [
      "This is a great product. It is very healthy for all of our dogs, and it is the first food that they all love to eat. It helped my older dog lose weight and my 10 year old lab gain the weight he needed to be healthy.\n",
      "==================================================\n"
     ]
    }
   ],
   "source": [
    "sent_1500 = decontracted(sent_1500)\n",
    "print(sent_1500)\n",
    "print(\"=\"*50)"
   ]
  },
  {
   "cell_type": "code",
   "execution_count": 21,
   "metadata": {
    "colab": {},
    "colab_type": "code",
    "id": "Kl8nOoL-LPn3",
    "outputId": "16742d57-2529-4fc0-9d28-e9332dbbca97"
   },
   "outputs": [
    {
     "name": "stdout",
     "output_type": "stream",
     "text": [
      "This book was purchased as a birthday gift for a  year old boy. He squealed with delight and hugged it when told it was his to keep and he did not have to return it to the library.\n"
     ]
    }
   ],
   "source": [
    "#remove words with numbers python: https://stackoverflow.com/a/18082370/4084039\n",
    "sent_0 = re.sub(\"\\S*\\d\\S*\", \"\", sent_0).strip()\n",
    "print(sent_0)"
   ]
  },
  {
   "cell_type": "code",
   "execution_count": 22,
   "metadata": {
    "colab": {},
    "colab_type": "code",
    "id": "EGB6X2uxLPn7",
    "outputId": "dbd754e5-eb73-4b3a-f3c3-7b1b40952851"
   },
   "outputs": [
    {
     "name": "stdout",
     "output_type": "stream",
     "text": [
      "This is a great product It is very healthy for all of our dogs and it is the first food that they all love to eat It helped my older dog lose weight and my 10 year old lab gain the weight he needed to be healthy \n"
     ]
    }
   ],
   "source": [
    "#remove spacial character: https://stackoverflow.com/a/5843547/4084039\n",
    "sent_1500 = re.sub('[^A-Za-z0-9]+', ' ', sent_1500)\n",
    "print(sent_1500)"
   ]
  },
  {
   "cell_type": "code",
   "execution_count": 23,
   "metadata": {
    "colab": {},
    "colab_type": "code",
    "id": "CCurSJJ2LPn_"
   },
   "outputs": [],
   "source": [
    "# https://gist.github.com/sebleier/554280\n",
    "# we are removing the words from the stop words list: 'no', 'nor', 'not'\n",
    "# <br /><br /> ==> after the above steps, we are getting \"br br\"\n",
    "# we are including them into stop words list\n",
    "# instead of <br /> if we have <br/> these tags would have revmoved in the 1st step\n",
    "\n",
    "stopwords= set(['br', 'the', 'i', 'me', 'my', 'myself', 'we', 'our', 'ours', 'ourselves', 'you', \"you're\", \"you've\",\\\n",
    "            \"you'll\", \"you'd\", 'your', 'yours', 'yourself', 'yourselves', 'he', 'him', 'his', 'himself', \\\n",
    "            'she', \"she's\", 'her', 'hers', 'herself', 'it', \"it's\", 'its', 'itself', 'they', 'them', 'their',\\\n",
    "            'theirs', 'themselves', 'what', 'which', 'who', 'whom', 'this', 'that', \"that'll\", 'these', 'those', \\\n",
    "            'am', 'is', 'are', 'was', 'were', 'be', 'been', 'being', 'have', 'has', 'had', 'having', 'do', 'does', \\\n",
    "            'did', 'doing', 'a', 'an', 'the', 'and', 'but', 'if', 'or', 'because', 'as', 'until', 'while', 'of', \\\n",
    "            'at', 'by', 'for', 'with', 'about', 'against', 'between', 'into', 'through', 'during', 'before', 'after',\\\n",
    "            'above', 'below', 'to', 'from', 'up', 'down', 'in', 'out', 'on', 'off', 'over', 'under', 'again', 'further',\\\n",
    "            'then', 'once', 'here', 'there', 'when', 'where', 'why', 'how', 'all', 'any', 'both', 'each', 'few', 'more',\\\n",
    "            'most', 'other', 'some', 'such', 'only', 'own', 'same', 'so', 'than', 'too', 'very', \\\n",
    "            's', 't', 'can', 'will', 'just', 'don', \"don't\", 'should', \"should've\", 'now', 'd', 'll', 'm', 'o', 're', \\\n",
    "            've', 'y', 'ain', 'aren', \"aren't\", 'couldn', \"couldn't\", 'didn', \"didn't\", 'doesn', \"doesn't\", 'hadn',\\\n",
    "            \"hadn't\", 'hasn', \"hasn't\", 'haven', \"haven't\", 'isn', \"isn't\", 'ma', 'mightn', \"mightn't\", 'mustn',\\\n",
    "            \"mustn't\", 'needn', \"needn't\", 'shan', \"shan't\", 'shouldn', \"shouldn't\", 'wasn', \"wasn't\", 'weren', \"weren't\", \\\n",
    "            'won', \"won't\", 'wouldn', \"wouldn't\"])"
   ]
  },
  {
   "cell_type": "code",
   "execution_count": 24,
   "metadata": {
    "colab": {},
    "colab_type": "code",
    "id": "mFHQEvfnLPoF",
    "outputId": "5cd6bcc3-54fe-4a8e-a39d-d6dabf3f37f9"
   },
   "outputs": [
    {
     "name": "stderr",
     "output_type": "stream",
     "text": [
      "100%|██████████| 348260/348260 [00:38<00:00, 9002.97it/s] \n"
     ]
    }
   ],
   "source": [
    "# Combining all the above stundents \n",
    "from tqdm import tqdm\n",
    "preprocessed_reviews = []\n",
    "# tqdm is for printing the status bar\n",
    "for sentance in tqdm(final['Text'].values):\n",
    "    sentance = re.sub(r\"http\\S+\", \"\", sentance)\n",
    "    #sentance = BeautifulSoup(sentance, 'lxml').get_text()\n",
    "    sentance = decontracted(sentance)\n",
    "    sentance = re.sub(\"\\S*\\d\\S*\", \"\", sentance).strip()\n",
    "    sentance = re.sub('[^A-Za-z]+', ' ', sentance)\n",
    "    # https://gist.github.com/sebleier/554280\n",
    "    sentance = ' '.join(e.lower() for e in sentance.split() if e.lower() not in stopwords)\n",
    "    preprocessed_reviews.append(sentance.strip())"
   ]
  },
  {
   "cell_type": "code",
   "execution_count": 25,
   "metadata": {
    "colab": {},
    "colab_type": "code",
    "id": "Tqx8QUeRLPoH",
    "outputId": "0182081c-6282-4113-b186-5b5bac596388"
   },
   "outputs": [
    {
     "data": {
      "text/plain": [
       "'great product healthy dogs first food love eat helped older dog lose weight year old lab gain weight needed healthy'"
      ]
     },
     "execution_count": 25,
     "metadata": {},
     "output_type": "execute_result"
    }
   ],
   "source": [
    "preprocessed_reviews[1500]"
   ]
  },
  {
   "cell_type": "markdown",
   "metadata": {
    "colab_type": "text",
    "id": "9IuKp2HULPoL"
   },
   "source": [
    "<h2><font color='red'>[3.2] Preprocessing Review Summary</font></h2>"
   ]
  },
  {
   "cell_type": "code",
   "execution_count": 26,
   "metadata": {
    "colab": {},
    "colab_type": "code",
    "id": "Qk7gYOmKLPoM"
   },
   "outputs": [],
   "source": [
    "## Similartly you can do preprocessing for review summary also."
   ]
  },
  {
   "cell_type": "markdown",
   "metadata": {
    "colab_type": "text",
    "id": "B93jqKuhLPoQ"
   },
   "source": [
    "# [4] Featurization"
   ]
  },
  {
   "cell_type": "markdown",
   "metadata": {
    "colab_type": "text",
    "id": "Mr4j2QhgLPoQ"
   },
   "source": [
    "## [4.1] BAG OF WORDS"
   ]
  },
  {
   "cell_type": "code",
   "execution_count": 0,
   "metadata": {
    "colab": {},
    "colab_type": "code",
    "id": "dZVHt3mtLPoR",
    "outputId": "ea1629cd-7c92-400e-9acd-f7caeef0f389"
   },
   "outputs": [
    {
     "name": "stdout",
     "output_type": "stream",
     "text": [
      "some feature names  ['aa', 'aahhhs', 'aback', 'abandon', 'abates', 'abbott', 'abby', 'abdominal', 'abiding', 'ability']\n",
      "==================================================\n",
      "the type of count vectorizer  <class 'scipy.sparse.csr.csr_matrix'>\n",
      "the shape of out text BOW vectorizer  (4986, 12997)\n",
      "the number of unique words  12997\n"
     ]
    }
   ],
   "source": [
    "#BoW\n",
    "count_vect = CountVectorizer() #in scikit-learn\n",
    "count_vect.fit(preprocessed_reviews)\n",
    "print(\"some feature names \", count_vect.get_feature_names()[:10])\n",
    "print('='*50)\n",
    "\n",
    "final_counts = count_vect.transform(preprocessed_reviews)\n",
    "print(\"the type of count vectorizer \",type(final_counts))\n",
    "print(\"the shape of out text BOW vectorizer \",final_counts.get_shape())\n",
    "print(\"the number of unique words \", final_counts.get_shape()[1])"
   ]
  },
  {
   "cell_type": "markdown",
   "metadata": {
    "colab_type": "text",
    "id": "tSf5kRdLLPoV"
   },
   "source": [
    "## [4.2] Bi-Grams and n-Grams."
   ]
  },
  {
   "cell_type": "code",
   "execution_count": 0,
   "metadata": {
    "colab": {},
    "colab_type": "code",
    "id": "Yfk2d7bLLPoW",
    "outputId": "33472132-5eb3-493f-b08c-081749f99239"
   },
   "outputs": [
    {
     "name": "stdout",
     "output_type": "stream",
     "text": [
      "the type of count vectorizer  <class 'scipy.sparse.csr.csr_matrix'>\n",
      "the shape of out text BOW vectorizer  (4986, 3144)\n",
      "the number of unique words including both unigrams and bigrams  3144\n"
     ]
    }
   ],
   "source": [
    "#bi-gram, tri-gram and n-gram\n",
    "\n",
    "#removing stop words like \"not\" should be avoided before building n-grams\n",
    "# count_vect = CountVectorizer(ngram_range=(1,2))\n",
    "# please do read the CountVectorizer documentation http://scikit-learn.org/stable/modules/generated/sklearn.feature_extraction.text.CountVectorizer.html\n",
    "\n",
    "# you can choose these numebrs min_df=10, max_features=5000, of your choice\n",
    "count_vect = CountVectorizer(ngram_range=(1,2), min_df=10, max_features=5000)\n",
    "final_bigram_counts = count_vect.fit_transform(preprocessed_reviews)\n",
    "print(\"the type of count vectorizer \",type(final_bigram_counts))\n",
    "print(\"the shape of out text BOW vectorizer \",final_bigram_counts.get_shape())\n",
    "print(\"the number of unique words including both unigrams and bigrams \", final_bigram_counts.get_shape()[1])"
   ]
  },
  {
   "cell_type": "markdown",
   "metadata": {
    "colab_type": "text",
    "id": "-cEEpDx0LPoZ"
   },
   "source": [
    "## [4.3] TF-IDF"
   ]
  },
  {
   "cell_type": "code",
   "execution_count": 0,
   "metadata": {
    "colab": {},
    "colab_type": "code",
    "id": "TgP61HqBLPoa",
    "outputId": "15f1c123-d93b-414d-914b-d4e3f32a6ac1"
   },
   "outputs": [
    {
     "name": "stdout",
     "output_type": "stream",
     "text": [
      "some sample features(unique words in the corpus) ['ability', 'able', 'able find', 'able get', 'absolute', 'absolutely', 'absolutely delicious', 'absolutely love', 'absolutely no', 'according']\n",
      "==================================================\n",
      "the type of count vectorizer  <class 'scipy.sparse.csr.csr_matrix'>\n",
      "the shape of out text TFIDF vectorizer  (4986, 3144)\n",
      "the number of unique words including both unigrams and bigrams  3144\n"
     ]
    }
   ],
   "source": [
    "tf_idf_vect = TfidfVectorizer(ngram_range=(1,2), min_df=10)\n",
    "tf_idf_vect.fit(preprocessed_reviews)\n",
    "print(\"some sample features(unique words in the corpus)\",tf_idf_vect.get_feature_names()[0:10])\n",
    "print('='*50)\n",
    "\n",
    "final_tf_idf = tf_idf_vect.transform(preprocessed_reviews)\n",
    "print(\"the type of count vectorizer \",type(final_tf_idf))\n",
    "print(\"the shape of out text TFIDF vectorizer \",final_tf_idf.get_shape())\n",
    "print(\"the number of unique words including both unigrams and bigrams \", final_tf_idf.get_shape()[1])"
   ]
  },
  {
   "cell_type": "markdown",
   "metadata": {
    "colab_type": "text",
    "id": "m3YEHTLPLPod"
   },
   "source": [
    "## [4.4] Word2Vec"
   ]
  },
  {
   "cell_type": "code",
   "execution_count": 0,
   "metadata": {
    "colab": {},
    "colab_type": "code",
    "id": "zwPZCf8cLPoe"
   },
   "outputs": [],
   "source": [
    "# Train your own Word2Vec model using your own text corpus\n",
    "i=0\n",
    "list_of_sentance=[]\n",
    "for sentance in preprocessed_reviews:\n",
    "    list_of_sentance.append(sentance.split())"
   ]
  },
  {
   "cell_type": "code",
   "execution_count": 0,
   "metadata": {
    "colab": {},
    "colab_type": "code",
    "id": "8ddGZNUfLPog",
    "outputId": "390d4ccb-cda2-4391-83e9-0e502b578171",
    "scrolled": true
   },
   "outputs": [
    {
     "name": "stdout",
     "output_type": "stream",
     "text": [
      "[('snack', 0.9951335191726685), ('calorie', 0.9946465492248535), ('wonderful', 0.9946032166481018), ('excellent', 0.9944332838058472), ('especially', 0.9941144585609436), ('baked', 0.9940600395202637), ('salted', 0.994047224521637), ('alternative', 0.9937226176261902), ('tasty', 0.9936816692352295), ('healthy', 0.9936649799346924)]\n",
      "==================================================\n",
      "[('varieties', 0.9994194507598877), ('become', 0.9992934465408325), ('popcorn', 0.9992750883102417), ('de', 0.9992610216140747), ('miss', 0.9992451071739197), ('melitta', 0.999218761920929), ('choice', 0.9992102384567261), ('american', 0.9991837739944458), ('beef', 0.9991780519485474), ('finish', 0.9991567134857178)]\n"
     ]
    }
   ],
   "source": [
    "# Using Google News Word2Vectors\n",
    "\n",
    "# in this project we are using a pretrained model by google\n",
    "# its 3.3G file, once you load this into your memory \n",
    "# it occupies ~9Gb, so please do this step only if you have >12G of ram\n",
    "# we will provide a pickle file wich contains a dict , \n",
    "# and it contains all our courpus words as keys and  model[word] as values\n",
    "# To use this code-snippet, download \"GoogleNews-vectors-negative300.bin\" \n",
    "# from https://drive.google.com/file/d/0B7XkCwpI5KDYNlNUTTlSS21pQmM/edit\n",
    "# it's 1.9GB in size.\n",
    "\n",
    "\n",
    "# http://kavita-ganesan.com/gensim-word2vec-tutorial-starter-code/#.W17SRFAzZPY\n",
    "# you can comment this whole cell\n",
    "# or change these varible according to your need\n",
    "\n",
    "is_your_ram_gt_16g=False\n",
    "want_to_use_google_w2v = False\n",
    "want_to_train_w2v = True\n",
    "\n",
    "if want_to_train_w2v:\n",
    "    # min_count = 5 considers only words that occured atleast 5 times\n",
    "    w2v_model=Word2Vec(list_of_sentance,min_count=5,size=50, workers=4)\n",
    "    print(w2v_model.wv.most_similar('great'))\n",
    "    print('='*50)\n",
    "    print(w2v_model.wv.most_similar('worst'))\n",
    "    \n",
    "elif want_to_use_google_w2v and is_your_ram_gt_16g:\n",
    "    if os.path.isfile('GoogleNews-vectors-negative300.bin'):\n",
    "        w2v_model=KeyedVectors.load_word2vec_format('GoogleNews-vectors-negative300.bin', binary=True)\n",
    "        print(w2v_model.wv.most_similar('great'))\n",
    "        print(w2v_model.wv.most_similar('worst'))\n",
    "    else:\n",
    "        print(\"you don't have gogole's word2vec file, keep want_to_train_w2v = True, to train your own w2v \")"
   ]
  },
  {
   "cell_type": "code",
   "execution_count": 0,
   "metadata": {
    "colab": {},
    "colab_type": "code",
    "id": "bRWXmmnWLPoo",
    "outputId": "1cc345e7-d991-49b8-f1b7-a0d81f0b97e6"
   },
   "outputs": [
    {
     "name": "stdout",
     "output_type": "stream",
     "text": [
      "number of words that occured minimum 5 times  3817\n",
      "sample words  ['product', 'available', 'course', 'total', 'pretty', 'stinky', 'right', 'nearby', 'used', 'ca', 'not', 'beat', 'great', 'received', 'shipment', 'could', 'hardly', 'wait', 'try', 'love', 'call', 'instead', 'removed', 'easily', 'daughter', 'designed', 'printed', 'use', 'car', 'windows', 'beautifully', 'shop', 'program', 'going', 'lot', 'fun', 'everywhere', 'like', 'tv', 'computer', 'really', 'good', 'idea', 'final', 'outstanding', 'window', 'everybody', 'asks', 'bought', 'made']\n"
     ]
    }
   ],
   "source": [
    "w2v_words = list(w2v_model.wv.vocab)\n",
    "print(\"number of words that occured minimum 5 times \",len(w2v_words))\n",
    "print(\"sample words \", w2v_words[0:50])"
   ]
  },
  {
   "cell_type": "markdown",
   "metadata": {
    "colab_type": "text",
    "id": "TtWqibqfLPos"
   },
   "source": [
    "## [4.4.1] Converting text into vectors using Avg W2V, TFIDF-W2V"
   ]
  },
  {
   "cell_type": "markdown",
   "metadata": {
    "colab_type": "text",
    "id": "JriP5nZCLPot"
   },
   "source": [
    "#### [4.4.1.1] Avg W2v"
   ]
  },
  {
   "cell_type": "code",
   "execution_count": 0,
   "metadata": {
    "colab": {},
    "colab_type": "code",
    "id": "UnXI9NHTLPot",
    "outputId": "ecbe8256-9718-4bad-de33-e5ce1ee69038"
   },
   "outputs": [
    {
     "name": "stderr",
     "output_type": "stream",
     "text": [
      "100%|████████████████████████████████████████████████████████████████████████████| 4986/4986 [00:03<00:00, 1330.47it/s]\n"
     ]
    },
    {
     "name": "stdout",
     "output_type": "stream",
     "text": [
      "4986\n",
      "50\n"
     ]
    }
   ],
   "source": [
    "# average Word2Vec\n",
    "# compute average word2vec for each review.\n",
    "sent_vectors = []; # the avg-w2v for each sentence/review is stored in this list\n",
    "for sent in tqdm(list_of_sentance): # for each review/sentence\n",
    "    sent_vec = np.zeros(50) # as word vectors are of zero length 50, you might need to change this to 300 if you use google's w2v\n",
    "    cnt_words =0; # num of words with a valid vector in the sentence/review\n",
    "    for word in sent: # for each word in a review/sentence\n",
    "        if word in w2v_words:\n",
    "            vec = w2v_model.wv[word]\n",
    "            sent_vec += vec\n",
    "            cnt_words += 1\n",
    "    if cnt_words != 0:\n",
    "        sent_vec /= cnt_words\n",
    "    sent_vectors.append(sent_vec)\n",
    "print(len(sent_vectors))\n",
    "print(len(sent_vectors[0]))"
   ]
  },
  {
   "cell_type": "markdown",
   "metadata": {
    "colab_type": "text",
    "id": "2sHfb529LPow"
   },
   "source": [
    "#### [4.4.1.2] TFIDF weighted W2v"
   ]
  },
  {
   "cell_type": "code",
   "execution_count": 0,
   "metadata": {
    "colab": {},
    "colab_type": "code",
    "id": "sb_wDjAqLPow"
   },
   "outputs": [],
   "source": [
    "# S = [\"abc def pqr\", \"def def def abc\", \"pqr pqr def\"]\n",
    "model = TfidfVectorizer()\n",
    "tf_idf_matrix = model.fit_transform(preprocessed_reviews)\n",
    "# we are converting a dictionary with word as a key, and the idf as a value\n",
    "dictionary = dict(zip(model.get_feature_names(), list(model.idf_)))"
   ]
  },
  {
   "cell_type": "code",
   "execution_count": 0,
   "metadata": {
    "colab": {},
    "colab_type": "code",
    "id": "3VrUzqx7LPoy",
    "outputId": "8480d5da-7b1d-4bbe-a4c9-fe0a5800b5d0",
    "scrolled": true
   },
   "outputs": [
    {
     "name": "stderr",
     "output_type": "stream",
     "text": [
      "100%|█████████████████████████████████████████████████████████████████████████████| 4986/4986 [00:20<00:00, 245.63it/s]\n"
     ]
    }
   ],
   "source": [
    "# TF-IDF weighted Word2Vec\n",
    "tfidf_feat = model.get_feature_names() # tfidf words/col-names\n",
    "# final_tf_idf is the sparse matrix with row= sentence, col=word and cell_val = tfidf\n",
    "\n",
    "tfidf_sent_vectors = []; # the tfidf-w2v for each sentence/review is stored in this list\n",
    "row=0;\n",
    "for sent in tqdm(list_of_sentance): # for each review/sentence \n",
    "    sent_vec = np.zeros(50) # as word vectors are of zero length\n",
    "    weight_sum =0; # num of words with a valid vector in the sentence/review\n",
    "    for word in sent: # for each word in a review/sentence\n",
    "        if word in w2v_words and word in tfidf_feat:\n",
    "            vec = w2v_model.wv[word]\n",
    "#             tf_idf = tf_idf_matrix[row, tfidf_feat.index(word)]\n",
    "            # to reduce the computation we are \n",
    "            # dictionary[word] = idf value of word in whole courpus\n",
    "            # sent.count(word) = tf valeus of word in this review\n",
    "            tf_idf = dictionary[word]*(sent.count(word)/len(sent))\n",
    "            sent_vec += (vec * tf_idf)\n",
    "            weight_sum += tf_idf\n",
    "    if weight_sum != 0:\n",
    "        sent_vec /= weight_sum\n",
    "    tfidf_sent_vectors.append(sent_vec)\n",
    "    row += 1"
   ]
  },
  {
   "cell_type": "markdown",
   "metadata": {
    "colab_type": "text",
    "id": "Kxx72u1hLPo1"
   },
   "source": [
    "# [5] Assignment 5: Apply Logistic Regression"
   ]
  },
  {
   "cell_type": "markdown",
   "metadata": {
    "colab_type": "text",
    "id": "KDR9We0oLPo2"
   },
   "source": [
    "<ol>\n",
    "    <li><strong>Apply Logistic Regression on these feature sets</strong>\n",
    "        <ul>\n",
    "            <li><font color='red'>SET 1:</font>Review text, preprocessed one converted into vectors using (BOW)</li>\n",
    "            <li><font color='red'>SET 2:</font>Review text, preprocessed one converted into vectors using (TFIDF)</li>\n",
    "            <li><font color='red'>SET 3:</font>Review text, preprocessed one converted into vectors using (AVG W2v)</li>\n",
    "            <li><font color='red'>SET 4:</font>Review text, preprocessed one converted into vectors using (TFIDF W2v)</li>\n",
    "        </ul>\n",
    "    </li>\n",
    "    <br>\n",
    "    <li><strong>Hyper paramter tuning (find best hyper parameters corresponding the algorithm that you choose)</strong>\n",
    "        <ul>\n",
    "    <li>Find the best hyper parameter which will give the maximum <a href='https://www.appliedaicourse.com/course/applied-ai-course-online/lessons/receiver-operating-characteristic-curve-roc-curve-and-auc-1/'>AUC</a> value</li>\n",
    "    <li>Find the best hyper paramter using k-fold cross validation or simple cross validation data</li>\n",
    "    <li>Use gridsearch cv or randomsearch cv or you can also write your own for loops to do this task of hyperparameter tuning</li>          \n",
    "        </ul>\n",
    "    </li>\n",
    "    <br>\n",
    "    <li><strong>Pertubation Test</strong>\n",
    "        <ul>\n",
    "    <li>Get the weights W after fit your model with the data X i.e Train data.</li>\n",
    "    <li>Add a noise to the X (X' = X + e) and get the new data set X' (if X is a sparse\n",
    "matrix, X.data+=e)</li>\n",
    "    <li>Fit the model again on data X' and get the weights W'</li>\n",
    "    <li>Add a small eps value(to eliminate the divisible by zero error) to W and W’ i.e\n",
    "W=W+10^-6 and W’ = W’+10^-6</li>\n",
    "    <li>Now find the % change between W and W' (| (W-W') / (W) |)*100)</li>\n",
    "    <li>Calculate the 0th, 10th, 20th, 30th, ...100th percentiles, and observe any sudden rise in the values of percentage_change_vector</li>\n",
    "    <li> Ex: consider your 99th percentile is 1.3 and your 100th percentiles are 34.6, there is sudden rise from 1.3 to 34.6, now calculate the 99.1, 99.2, 99.3,..., 100th percentile values and get the proper value after which there is sudden rise the values, assume it is 2.5</li>\n",
    "            <li> Print the feature names whose % change is more than a threshold x(in our example it's 2.5)</li>\n",
    "        </ul>\n",
    "    </li>\n",
    "    <br>\n",
    "    <li><strong>Sparsity</strong>\n",
    "        <ul>\n",
    "    <li>Calculate sparsity on weight vector obtained after using L1 regularization</li>\n",
    "        </ul>\n",
    "    </li>\n",
    "    <br><font color='red'>NOTE: Do sparsity and multicollinearity for any one of the vectorizers. Bow or tf-idf is recommended.</font>\n",
    "    <br>\n",
    "    <br>\n",
    "    <li><strong>Feature importance</strong>\n",
    "        <ul>\n",
    "    <li>Get top 10 important features for both positive and negative classes separately.</li>\n",
    "        </ul>\n",
    "    </li>\n",
    "    <br>\n",
    "    <li><strong>Feature engineering</strong>\n",
    "        <ul>\n",
    "    <li>To increase the performance of your model, you can also experiment with with feature engineering like :</li>\n",
    "            <ul>\n",
    "            <li>Taking length of reviews as another feature.</li>\n",
    "            <li>Considering some features from review summary as well.</li>\n",
    "        </ul>\n",
    "        </ul>\n",
    "    </li>\n",
    "    <br>\n",
    "    <li><strong>Representation of results</strong>\n",
    "        <ul>\n",
    "    <li>You need to plot the performance of model both on train data and cross validation data for each hyper parameter, like shown in the figure.\n",
    "    <img src='train_cv_auc.JPG' width=300px></li>\n",
    "    <li>Once after you found the best hyper parameter, you need to train your model with it, and find the AUC on test data and plot the ROC curve on both train and test.\n",
    "    <img src='train_test_auc.JPG' width=300px></li>\n",
    "    <li>Along with plotting ROC curve, you need to print the <a href='https://www.appliedaicourse.com/course/applied-ai-course-online/lessons/confusion-matrix-tpr-fpr-fnr-tnr-1/'>confusion matrix</a> with predicted and original labels of test data points. Please visualize your confusion matrices using <a href='https://seaborn.pydata.org/generated/seaborn.heatmap.html'>seaborn heatmaps.\n",
    "    <img src='confusion_matrix.png' width=300px></li>\n",
    "        </ul>\n",
    "    </li>\n",
    "    <br>\n",
    "    <li><strong>Conclusion</strong>\n",
    "        <ul>\n",
    "    <li>You need to summarize the results at the end of the notebook, summarize it in the table format. To print out a table please refer to this prettytable library<a href='http://zetcode.com/python/prettytable/'>  link</a> \n",
    "        <img src='summary.JPG' width=400px>\n",
    "    </li>\n",
    "        </ul>\n",
    "</ol>"
   ]
  },
  {
   "cell_type": "markdown",
   "metadata": {
    "colab_type": "text",
    "id": "gilb-DOVLPo2"
   },
   "source": [
    "<h4><font color='red'>Note: Data Leakage</font></h4>\n",
    "\n",
    "1. There will be an issue of data-leakage if you vectorize the entire data and then split it into train/cv/test.\n",
    "2. To avoid the issue of data-leakag, make sure to split your data first and then vectorize it. \n",
    "3. While vectorizing your data, apply the method fit_transform() on you train data, and apply the method transform() on cv/test data.\n",
    "4. For more details please go through this <a href='https://soundcloud.com/applied-ai-course/leakage-bow-and-tfidf'>link.</a>"
   ]
  },
  {
   "cell_type": "markdown",
   "metadata": {
    "colab_type": "text",
    "id": "jiYocvSHLPo4"
   },
   "source": [
    "# Applying Logistic Regression"
   ]
  },
  {
   "cell_type": "markdown",
   "metadata": {
    "colab_type": "text",
    "id": "LE_XPVZJLPo4"
   },
   "source": [
    "## [5.1] Logistic Regression on BOW,<font color='red'> SET 1</font>"
   ]
  },
  {
   "cell_type": "markdown",
   "metadata": {
    "colab_type": "text",
    "id": "_iciJvj2LPo4"
   },
   "source": [
    "### [5.1.1] Applying Logistic Regression with L1 regularization on BOW,<font color='red'> SET 1</font>"
   ]
  },
  {
   "cell_type": "code",
   "execution_count": 50,
   "metadata": {
    "colab": {},
    "colab_type": "code",
    "id": "MyOVi-xYLPo5"
   },
   "outputs": [
    {
     "name": "stdout",
     "output_type": "stream",
     "text": [
      "--------------------\n",
      "we are getting max auc of 0.523 on C=1\n"
     ]
    },
    {
     "data": {
      "image/png": "[encoded data removed]",
      "text/plain": [
       "<Figure size 432x288 with 1 Axes>"
      ]
     },
     "metadata": {
      "needs_background": "light"
     },
     "output_type": "display_data"
    }
   ],
   "source": [
    "from sklearn.model_selection import train_test_split\n",
    "from sklearn.linear_model import LogisticRegression\n",
    "from sklearn.model_selection import GridSearchCV\n",
    "from sklearn.metrics import roc_auc_score\n",
    "import math\n",
    "import scikitplot.metrics as skplt\n",
    "from sklearn.metrics import auc\n",
    "import warnings\n",
    "warnings.filterwarnings('ignore')\n",
    "\n",
    "x=pd.read_pickle('preprocess_reviews')[:50000]\n",
    "y=filtered_data['Score'][:50000]\n",
    "\n",
    "x_tr, x_cv, y_tr, y_cv = train_test_split(x, y, test_size=0.2)\n",
    "x_train, x_test, y_train, y_test = train_test_split(x_tr, y_tr, test_size=0.2)\n",
    "\n",
    "bow=CountVectorizer()\n",
    "bow.fit(x_train)\n",
    "x_train=bow.transform(x_train)\n",
    "x_cv=bow.transform(x_cv)\n",
    "x_test=bow.transform(x_test)\n",
    "\n",
    "auc_train_list=[]\n",
    "auc_cv_list=[]\n",
    "c=[10**-5, 10**-4, 10**-3, 10**-2, 10**-1, 1, 10**1, 10**2, 10**3, 10**4, 10**5]\n",
    "for i in c:\n",
    "    model=LogisticRegression(penalty='l1', C=i)\n",
    "    model.fit(x_train, y_train)\n",
    "    pred_train=model.predict_proba(x_train)[:,1]\n",
    "    pred_cv=model.predict_proba(x_cv)[:,1]\n",
    "    auc_cv=roc_auc_score(y_cv, pred_cv)\n",
    "    auc_train=roc_auc_score(y_train, pred_train)\n",
    "    auc_cv_list.append(auc_cv)\n",
    "    auc_train_list.append(auc_train)\n",
    "    #print('we are getting auc={x} for C={y}'.format(x=round(auc_cv,3), y=i))\n",
    "    \n",
    "log_c = [math.log(i) for i in c]\n",
    "print('-'*20)\n",
    "print('we are getting max auc of {x} on C={y}'.format(x=round(max(auc_cv_list),3), y=c[auc_cv_list.index(max(auc_cv_list))]))\n",
    "plt.plot(log_c, auc_cv_list, label='CV data');\n",
    "plt.plot(log_c, auc_train_list, label='Trian Data');\n",
    "plt.legend()\n",
    "plt.xlabel('C Value')\n",
    "plt.ylabel('AUC')\n",
    "plt.title('AUC wrt C')\n",
    "plt.grid()\n",
    "plt.show()\n",
    "\n",
    "#print(\"Now let's train our test data with c={x}\".format(x=c[auc_cv_list.index(max(auc_cv_list))]))\n",
    "#print('-'*14, 'finding auc', '-'*14)\n",
    "\n"
   ]
  },
  {
   "cell_type": "code",
   "execution_count": 55,
   "metadata": {},
   "outputs": [
    {
     "data": {
      "image/png": "[encoded data removed]",
      "text/plain": [
       "<Figure size 432x288 with 1 Axes>"
      ]
     },
     "metadata": {
      "needs_background": "light"
     },
     "output_type": "display_data"
    },
    {
     "name": "stdout",
     "output_type": "stream",
     "text": [
      "------------ plotting confusion matrix ------------\n"
     ]
    },
    {
     "data": {
      "image/png": "[encoded data removed]",
      "text/plain": [
       "<Figure size 432x288 with 2 Axes>"
      ]
     },
     "metadata": {
      "needs_background": "light"
     },
     "output_type": "display_data"
    },
    {
     "data": {
      "image/png": "[encoded data removed]",
      "text/plain": [
       "<Figure size 432x288 with 2 Axes>"
      ]
     },
     "metadata": {
      "needs_background": "light"
     },
     "output_type": "display_data"
    }
   ],
   "source": [
    "model1=LogisticRegression(penalty='l1',C=0.01)\n",
    "model1.fit(x_train, y_train)\n",
    "y_pred_test = model1.predict_proba(x_test)[:,1]\n",
    "y_pred_test_1 = model1.predict(x_test)\n",
    "y_pred_train=model1.predict_proba(x_train)[:,1]\n",
    "y_pred_train_1 = model1.predict(x_train)\n",
    "\n",
    "#plotting ROC curve of test data\n",
    "\n",
    "fpr_test, tpr_test, threshold = roc_curve(y_test, y_pred_test)\n",
    "fpr_train, tpr_train, threshold = roc_curve(y_train, y_pred_train)\n",
    "plt.plot([0,1], [0,1], linestyle='--')\n",
    "plt.plot(fpr_train, tpr_train, label='Train AUC={x}'.format(x=round(auc(fpr_train, tpr_train),3)))\n",
    "plt.plot(fpr_test, tpr_test, label='Test AUC={x}'.format(x=round(auc(fpr_test, tpr_test),3)))\n",
    "plt.legend()\n",
    "plt.xlabel('False Psotive Rate')\n",
    "plt.ylabel('True Positive Rate')\n",
    "plt.show()\n",
    "\n",
    "print('-'*12, 'plotting confusion matrix', '-'*12)\n",
    "skplt.plot_confusion_matrix(y_test, y_pred_test_1);\n",
    "plt.title('Confusion matrix Test')\n",
    "plt.show();\n",
    "\n",
    "skplt.plot_confusion_matrix(y_train, y_pred_train_1);\n",
    "plt.title('Confusion matrix Train');\n",
    "plt.show();\n",
    "\n"
   ]
  },
  {
   "cell_type": "markdown",
   "metadata": {
    "colab_type": "text",
    "id": "5h4NhywcLPo7"
   },
   "source": [
    "\n",
    "#### [5.1.1.1] Calculating sparsity on weight vector obtained using L1 regularization on BOW,<font color='red'> SET 1</font>"
   ]
  },
  {
   "cell_type": "code",
   "execution_count": 56,
   "metadata": {
    "colab": {},
    "colab_type": "code",
    "id": "-mmdLzUALPo-"
   },
   "outputs": [
    {
     "name": "stdout",
     "output_type": "stream",
     "text": [
      "sparsity using L1 regularization on BOW is 54.3335740874\n"
     ]
    }
   ],
   "source": [
    "array = model1.coef_\n",
    "#print(array.shape)\n",
    "lst = array.tolist()\n",
    "non_zero_count=np.count_nonzero(array, axis=1)\n",
    "print('sparsity using L1 regularization on BOW is',(array.shape[1]-non_zero_count[0])/array.shape[1]*100)"
   ]
  },
  {
   "cell_type": "markdown",
   "metadata": {
    "colab_type": "text",
    "id": "aRHMa52qLPpA"
   },
   "source": [
    "### [5.1.2] Applying Logistic Regression with L2 regularization on BOW,<font color='red'> SET 1</font>"
   ]
  },
  {
   "cell_type": "code",
   "execution_count": 57,
   "metadata": {
    "colab": {},
    "colab_type": "code",
    "id": "GBbb9lxlLPpB"
   },
   "outputs": [
    {
     "name": "stdout",
     "output_type": "stream",
     "text": [
      "--------------------\n",
      "we are getting max auc of 0.506 on C=0.01\n"
     ]
    },
    {
     "data": {
      "image/png": "[encoded data removed]",
      "text/plain": [
       "<Figure size 432x288 with 1 Axes>"
      ]
     },
     "metadata": {
      "needs_background": "light"
     },
     "output_type": "display_data"
    }
   ],
   "source": [
    "import warnings\n",
    "warnings.filterwarnings('ignore')\n",
    "\n",
    "from sklearn.model_selection import train_test_split\n",
    "from sklearn.linear_model import LogisticRegression\n",
    "from sklearn.model_selection import GridSearchCV\n",
    "from sklearn.metrics import roc_auc_score\n",
    "import math\n",
    "import scikitplot.metrics as skplt\n",
    "from sklearn.metrics import auc\n",
    "\n",
    "x=preprocessed_reviews[:50000]\n",
    "y=filtered_data['Score'][:50000]\n",
    "\n",
    "x_tr, x_cv, y_tr, y_cv = train_test_split(x, y, test_size=0.2)\n",
    "x_train, x_test, y_train, y_test = train_test_split(x_tr, y_tr, test_size=0.2)\n",
    "\n",
    "bow=CountVectorizer()\n",
    "bow.fit(x_train)\n",
    "x_train=bow.transform(x_train)\n",
    "x_cv=bow.transform(x_cv)\n",
    "x_test=bow.transform(x_test)\n",
    "\n",
    "auc_train_list=[]\n",
    "auc_cv_list=[]\n",
    "c=[10**-5, 10**-4, 10**-3, 10**-2, 10**-1, 1, 10**1, 10**2, 10**3, 10**4, 10**5]\n",
    "for i in c:\n",
    "    model=LogisticRegression(penalty='l2', C=i)\n",
    "    model.fit(x_train, y_train)\n",
    "    pred_train=model.predict_proba(x_train)[:,1]\n",
    "    pred_cv=model.predict_proba(x_cv)[:,1]\n",
    "    auc_cv=roc_auc_score(y_cv, pred_cv)\n",
    "    auc_train=roc_auc_score(y_train, pred_train)\n",
    "    auc_cv_list.append(auc_cv)\n",
    "    auc_train_list.append(auc_train)\n",
    "    #print('we are getting auc={x} for C={y}'.format(x=round(auc_cv,3), y=i))\n",
    "    \n",
    "log_c = [math.log(i) for i in c]\n",
    "print('-'*20)\n",
    "print('we are getting max auc of {x} on C={y}'.format(x=round(max(auc_cv_list),3), y=c[auc_cv_list.index(max(auc_cv_list))]))\n",
    "plt.plot(log_c, auc_cv_list, label='CV data');\n",
    "plt.plot(log_c, auc_train_list, label='Trian Data');\n",
    "plt.legend()\n",
    "plt.xlabel('C Value')\n",
    "plt.ylabel('AUC')\n",
    "plt.title('AUC wrt C')\n",
    "plt.show()"
   ]
  },
  {
   "cell_type": "code",
   "execution_count": 58,
   "metadata": {},
   "outputs": [
    {
     "name": "stdout",
     "output_type": "stream",
     "text": [
      "Now let's train our test data with c=0.01\n",
      "-------------- finding auc --------------\n"
     ]
    },
    {
     "data": {
      "image/png": "[encoded data removed]",
      "text/plain": [
       "<Figure size 432x288 with 1 Axes>"
      ]
     },
     "metadata": {
      "needs_background": "light"
     },
     "output_type": "display_data"
    },
    {
     "name": "stdout",
     "output_type": "stream",
     "text": [
      "------------ plotting confusion matrix ------------\n"
     ]
    },
    {
     "data": {
      "image/png": "[encoded data removed]",
      "text/plain": [
       "<Figure size 432x288 with 2 Axes>"
      ]
     },
     "metadata": {
      "needs_background": "light"
     },
     "output_type": "display_data"
    },
    {
     "data": {
      "image/png": "[encoded data removed]",
      "text/plain": [
       "<Figure size 432x288 with 2 Axes>"
      ]
     },
     "metadata": {
      "needs_background": "light"
     },
     "output_type": "display_data"
    }
   ],
   "source": [
    "#print(\"Now let's train our test data with c={x}\".format(x=c[auc_cv_list.index(max(auc_cv_list))]))\n",
    "#print('-'*14, 'finding auc', '-'*14)\n",
    "\n",
    "model1=LogisticRegression(penalty='l2',C=10**-3)\n",
    "model1.fit(x_train, y_train)\n",
    "y_pred_test = model1.predict_proba(x_test)[:,1]\n",
    "y_pred_test_1 = model1.predict(x_test)\n",
    "y_pred_train = model1.predict_proba(x_train)[:,1]\n",
    "y_pred_train_1 = model1.predict(x_train)\n",
    "\n",
    "#plotting ROC curve of test data\n",
    "\n",
    "fpr_test, tpr_test, threshold = roc_curve(y_test, y_pred_test)\n",
    "fpr_train, tpr_train, threshold = roc_curve(y_train, y_pred_train)\n",
    "plt.plot([0,1], [0,1], linestyle='--')\n",
    "plt.plot(fpr_train, tpr_train, marker='.', label='Train Auc={x}'.format(x=auc(fpr_train, tpr_train)))\n",
    "plt.plot(fpr_test, tpr_test, marker='.', label='Test Auc={x}'.format(x=auc(fpr_test, tpr_test)))\n",
    "plt.legend()\n",
    "plt.xlabel('False Psotive Rate')\n",
    "plt.ylabel('True Positive Rate')\n",
    "plt.show()\n",
    "\n",
    "print('-'*12, 'plotting confusion matrix', '-'*12)\n",
    "skplt.plot_confusion_matrix(y_test, y_pred_test_1);\n",
    "plt.title('Test confusion matrix')\n",
    "plt.show();\n",
    "\n",
    "skplt.plot_confusion_matrix(y_train, y_pred_train_1);\n",
    "plt.title('Train confusion matrix')\n",
    "plt.show()"
   ]
  },
  {
   "cell_type": "markdown",
   "metadata": {
    "colab_type": "text",
    "id": "UaJkugTKLPpE"
   },
   "source": [
    "#### [5.1.2.1] Performing pertubation test (multicollinearity check) on BOW,<font color='red'> SET 1</font>"
   ]
  },
  {
   "cell_type": "code",
   "execution_count": 61,
   "metadata": {
    "colab": {},
    "colab_type": "code",
    "id": "E1c5B1nELPpF"
   },
   "outputs": [
    {
     "data": {
      "image/png": "[encoded data removed]",
      "text/plain": [
       "<Figure size 1008x504 with 1 Axes>"
      ]
     },
     "metadata": {
      "needs_background": "light"
     },
     "output_type": "display_data"
    },
    {
     "name": "stdout",
     "output_type": "stream",
     "text": [
      "let's zoom in between 98 to 100\n"
     ]
    },
    {
     "data": {
      "image/png": "[encoded data removed]",
      "text/plain": [
       "<Figure size 1224x432 with 1 Axes>"
      ]
     },
     "metadata": {
      "needs_background": "light"
     },
     "output_type": "display_data"
    },
    {
     "name": "stdout",
     "output_type": "stream",
     "text": [
      "Value is suddenly increasing from 99.25 percentile\n"
     ]
    }
   ],
   "source": [
    "import numpy as np\n",
    "model2=LogisticRegression(penalty='l2',C=10**-3)\n",
    "model2.fit(x_train, y_train)\n",
    "\n",
    "w=model2.coef_\n",
    "\n",
    "mu, sigma = 0, 0.1\n",
    "noise=np.random.normal(mu, sigma, [x_train.shape[0], x_train.shape[1]])\n",
    "\n",
    "x_train_noised = x_train + noise\n",
    "\n",
    "model2.fit(x_train_noised, y_train)\n",
    "w1=model2.coef_\n",
    "\n",
    "w_n = w+10**-6\n",
    "w1_n = w1+10**-6\n",
    "\n",
    "#print(w_n)\n",
    "\n",
    "#print(w1_n)\n",
    "\n",
    "weight_changes= ((w1_n-w_n)/w_n)*100\n",
    "\n",
    "#print(weight_changes)\n",
    "\n",
    "s=[]\n",
    "a=[]\n",
    "for i in range(0,101):\n",
    "    s.append(i)\n",
    "    d=np.percentile(weight_changes, i)\n",
    "    a.append(d)\n",
    "    \n",
    "weight_changes_perc=pd.DataFrame({'Percentile':s, 'Value':a})\n",
    "\n",
    "#print(weight_changes_perc)\n",
    "plt.figure(figsize=(14,7))\n",
    "plt.plot(weight_changes_perc['Percentile'], weight_changes_perc['Value'])\n",
    "plt.xlabel('Percentile changes')\n",
    "plt.ylabel('percentile')\n",
    "plt.title('0 to 100 percentile changes')\n",
    "plt.show();\n",
    "\n",
    "print(\"let's zoom in between 98 to 100\")\n",
    "\n",
    "plt.figure(figsize=(17,6))\n",
    "plt.plot(weight_changes_perc['Percentile'].iloc[98:101], weight_changes_perc['Value'].iloc[98:101])\n",
    "plt.scatter(weight_changes_perc['Percentile'].iloc[98:101], weight_changes_perc['Value'].iloc[98:101])\n",
    "plt.xlabel('Percentile')\n",
    "plt.ylabel('changes')\n",
    "plt.title('98 to 100 percentile changes')\n",
    "plt.show();\n",
    "\n",
    "print('Value is suddenly increasing from 99.25 percentile')\n",
    "#pd.DataFrame({'w':w_n.ravel(), 'w_noise':w1_n.ravel(), 'change':weight_changes.ravel()})"
   ]
  },
  {
   "cell_type": "code",
   "execution_count": 63,
   "metadata": {
    "scrolled": true
   },
   "outputs": [
    {
     "name": "stdout",
     "output_type": "stream",
     "text": [
      "Features whose weight changes abruptly. 99.25 to 100 percentile features\n"
     ]
    },
    {
     "data": {
      "text/html": [
       "<div>\n",
       "<style scoped>\n",
       "    .dataframe tbody tr th:only-of-type {\n",
       "        vertical-align: middle;\n",
       "    }\n",
       "\n",
       "    .dataframe tbody tr th {\n",
       "        vertical-align: top;\n",
       "    }\n",
       "\n",
       "    .dataframe thead th {\n",
       "        text-align: right;\n",
       "    }\n",
       "</style>\n",
       "<table border=\"1\" class=\"dataframe\">\n",
       "  <thead>\n",
       "    <tr style=\"text-align: right;\">\n",
       "      <th></th>\n",
       "      <th>Features</th>\n",
       "      <th>weight changes</th>\n",
       "    </tr>\n",
       "  </thead>\n",
       "  <tbody>\n",
       "    <tr>\n",
       "      <th>0</th>\n",
       "      <td>burlingham</td>\n",
       "      <td>1.352656e+04</td>\n",
       "    </tr>\n",
       "    <tr>\n",
       "      <th>1</th>\n",
       "      <td>piddles</td>\n",
       "      <td>1.352960e+04</td>\n",
       "    </tr>\n",
       "    <tr>\n",
       "      <th>2</th>\n",
       "      <td>conditionally</td>\n",
       "      <td>1.354892e+04</td>\n",
       "    </tr>\n",
       "    <tr>\n",
       "      <th>3</th>\n",
       "      <td>attractively</td>\n",
       "      <td>1.359435e+04</td>\n",
       "    </tr>\n",
       "    <tr>\n",
       "      <th>4</th>\n",
       "      <td>religions</td>\n",
       "      <td>1.359561e+04</td>\n",
       "    </tr>\n",
       "    <tr>\n",
       "      <th>5</th>\n",
       "      <td>stocking</td>\n",
       "      <td>1.359826e+04</td>\n",
       "    </tr>\n",
       "    <tr>\n",
       "      <th>6</th>\n",
       "      <td>ver</td>\n",
       "      <td>1.363627e+04</td>\n",
       "    </tr>\n",
       "    <tr>\n",
       "      <th>7</th>\n",
       "      <td>adverts</td>\n",
       "      <td>1.365356e+04</td>\n",
       "    </tr>\n",
       "    <tr>\n",
       "      <th>8</th>\n",
       "      <td>closet</td>\n",
       "      <td>1.368450e+04</td>\n",
       "    </tr>\n",
       "    <tr>\n",
       "      <th>9</th>\n",
       "      <td>shores</td>\n",
       "      <td>1.372722e+04</td>\n",
       "    </tr>\n",
       "    <tr>\n",
       "      <th>10</th>\n",
       "      <td>flinging</td>\n",
       "      <td>1.374712e+04</td>\n",
       "    </tr>\n",
       "    <tr>\n",
       "      <th>11</th>\n",
       "      <td>convince</td>\n",
       "      <td>1.383753e+04</td>\n",
       "    </tr>\n",
       "    <tr>\n",
       "      <th>12</th>\n",
       "      <td>shittake</td>\n",
       "      <td>1.391263e+04</td>\n",
       "    </tr>\n",
       "    <tr>\n",
       "      <th>13</th>\n",
       "      <td>adulterate</td>\n",
       "      <td>1.397408e+04</td>\n",
       "    </tr>\n",
       "    <tr>\n",
       "      <th>14</th>\n",
       "      <td>jackie</td>\n",
       "      <td>1.400164e+04</td>\n",
       "    </tr>\n",
       "    <tr>\n",
       "      <th>15</th>\n",
       "      <td>numbness</td>\n",
       "      <td>1.407187e+04</td>\n",
       "    </tr>\n",
       "    <tr>\n",
       "      <th>16</th>\n",
       "      <td>tutelage</td>\n",
       "      <td>1.412843e+04</td>\n",
       "    </tr>\n",
       "    <tr>\n",
       "      <th>17</th>\n",
       "      <td>traditonally</td>\n",
       "      <td>1.418128e+04</td>\n",
       "    </tr>\n",
       "    <tr>\n",
       "      <th>18</th>\n",
       "      <td>bountiful</td>\n",
       "      <td>1.422872e+04</td>\n",
       "    </tr>\n",
       "    <tr>\n",
       "      <th>19</th>\n",
       "      <td>emphysema</td>\n",
       "      <td>1.428825e+04</td>\n",
       "    </tr>\n",
       "    <tr>\n",
       "      <th>20</th>\n",
       "      <td>playful</td>\n",
       "      <td>1.435085e+04</td>\n",
       "    </tr>\n",
       "    <tr>\n",
       "      <th>21</th>\n",
       "      <td>sills</td>\n",
       "      <td>1.435210e+04</td>\n",
       "    </tr>\n",
       "    <tr>\n",
       "      <th>22</th>\n",
       "      <td>injurys</td>\n",
       "      <td>1.435356e+04</td>\n",
       "    </tr>\n",
       "    <tr>\n",
       "      <th>23</th>\n",
       "      <td>suppository</td>\n",
       "      <td>1.435839e+04</td>\n",
       "    </tr>\n",
       "    <tr>\n",
       "      <th>24</th>\n",
       "      <td>pediatrictian</td>\n",
       "      <td>1.437073e+04</td>\n",
       "    </tr>\n",
       "    <tr>\n",
       "      <th>25</th>\n",
       "      <td>innovative</td>\n",
       "      <td>1.442020e+04</td>\n",
       "    </tr>\n",
       "    <tr>\n",
       "      <th>26</th>\n",
       "      <td>phenol</td>\n",
       "      <td>1.444014e+04</td>\n",
       "    </tr>\n",
       "    <tr>\n",
       "      <th>27</th>\n",
       "      <td>powedered</td>\n",
       "      <td>1.444830e+04</td>\n",
       "    </tr>\n",
       "    <tr>\n",
       "      <th>28</th>\n",
       "      <td>lickin</td>\n",
       "      <td>1.450718e+04</td>\n",
       "    </tr>\n",
       "    <tr>\n",
       "      <th>29</th>\n",
       "      <td>religious</td>\n",
       "      <td>1.451698e+04</td>\n",
       "    </tr>\n",
       "    <tr>\n",
       "      <th>...</th>\n",
       "      <td>...</td>\n",
       "      <td>...</td>\n",
       "    </tr>\n",
       "    <tr>\n",
       "      <th>229</th>\n",
       "      <td>pottying</td>\n",
       "      <td>8.348541e+04</td>\n",
       "    </tr>\n",
       "    <tr>\n",
       "      <th>230</th>\n",
       "      <td>males</td>\n",
       "      <td>8.349199e+04</td>\n",
       "    </tr>\n",
       "    <tr>\n",
       "      <th>231</th>\n",
       "      <td>namesake</td>\n",
       "      <td>8.592645e+04</td>\n",
       "    </tr>\n",
       "    <tr>\n",
       "      <th>232</th>\n",
       "      <td>overlap</td>\n",
       "      <td>8.745063e+04</td>\n",
       "    </tr>\n",
       "    <tr>\n",
       "      <th>233</th>\n",
       "      <td>evangelist</td>\n",
       "      <td>9.356318e+04</td>\n",
       "    </tr>\n",
       "    <tr>\n",
       "      <th>234</th>\n",
       "      <td>verdict</td>\n",
       "      <td>9.738471e+04</td>\n",
       "    </tr>\n",
       "    <tr>\n",
       "      <th>235</th>\n",
       "      <td>drizzles</td>\n",
       "      <td>9.872129e+04</td>\n",
       "    </tr>\n",
       "    <tr>\n",
       "      <th>236</th>\n",
       "      <td>lrrp</td>\n",
       "      <td>1.028064e+05</td>\n",
       "    </tr>\n",
       "    <tr>\n",
       "      <th>237</th>\n",
       "      <td>ersatz</td>\n",
       "      <td>1.039183e+05</td>\n",
       "    </tr>\n",
       "    <tr>\n",
       "      <th>238</th>\n",
       "      <td>avocado</td>\n",
       "      <td>1.112791e+05</td>\n",
       "    </tr>\n",
       "    <tr>\n",
       "      <th>239</th>\n",
       "      <td>reciept</td>\n",
       "      <td>1.171458e+05</td>\n",
       "    </tr>\n",
       "    <tr>\n",
       "      <th>240</th>\n",
       "      <td>preferably</td>\n",
       "      <td>1.176577e+05</td>\n",
       "    </tr>\n",
       "    <tr>\n",
       "      <th>241</th>\n",
       "      <td>pressurization</td>\n",
       "      <td>1.180067e+05</td>\n",
       "    </tr>\n",
       "    <tr>\n",
       "      <th>242</th>\n",
       "      <td>cicadas</td>\n",
       "      <td>1.197462e+05</td>\n",
       "    </tr>\n",
       "    <tr>\n",
       "      <th>243</th>\n",
       "      <td>sideways</td>\n",
       "      <td>1.241074e+05</td>\n",
       "    </tr>\n",
       "    <tr>\n",
       "      <th>244</th>\n",
       "      <td>denoted</td>\n",
       "      <td>1.255917e+05</td>\n",
       "    </tr>\n",
       "    <tr>\n",
       "      <th>245</th>\n",
       "      <td>stacking</td>\n",
       "      <td>1.297080e+05</td>\n",
       "    </tr>\n",
       "    <tr>\n",
       "      <th>246</th>\n",
       "      <td>rendering</td>\n",
       "      <td>1.332907e+05</td>\n",
       "    </tr>\n",
       "    <tr>\n",
       "      <th>247</th>\n",
       "      <td>supervise</td>\n",
       "      <td>1.590916e+05</td>\n",
       "    </tr>\n",
       "    <tr>\n",
       "      <th>248</th>\n",
       "      <td>frustration</td>\n",
       "      <td>1.643513e+05</td>\n",
       "    </tr>\n",
       "    <tr>\n",
       "      <th>249</th>\n",
       "      <td>wrongo</td>\n",
       "      <td>1.756809e+05</td>\n",
       "    </tr>\n",
       "    <tr>\n",
       "      <th>250</th>\n",
       "      <td>buckets</td>\n",
       "      <td>1.769318e+05</td>\n",
       "    </tr>\n",
       "    <tr>\n",
       "      <th>251</th>\n",
       "      <td>terminology</td>\n",
       "      <td>1.816881e+05</td>\n",
       "    </tr>\n",
       "    <tr>\n",
       "      <th>252</th>\n",
       "      <td>hearing</td>\n",
       "      <td>2.170599e+05</td>\n",
       "    </tr>\n",
       "    <tr>\n",
       "      <th>253</th>\n",
       "      <td>messes</td>\n",
       "      <td>5.073897e+05</td>\n",
       "    </tr>\n",
       "    <tr>\n",
       "      <th>254</th>\n",
       "      <td>espressos</td>\n",
       "      <td>6.052926e+05</td>\n",
       "    </tr>\n",
       "    <tr>\n",
       "      <th>255</th>\n",
       "      <td>nephew</td>\n",
       "      <td>7.129047e+05</td>\n",
       "    </tr>\n",
       "    <tr>\n",
       "      <th>256</th>\n",
       "      <td>sc</td>\n",
       "      <td>7.150929e+05</td>\n",
       "    </tr>\n",
       "    <tr>\n",
       "      <th>257</th>\n",
       "      <td>filtering</td>\n",
       "      <td>1.117796e+06</td>\n",
       "    </tr>\n",
       "    <tr>\n",
       "      <th>258</th>\n",
       "      <td>krispy</td>\n",
       "      <td>3.855598e+06</td>\n",
       "    </tr>\n",
       "  </tbody>\n",
       "</table>\n",
       "<p>259 rows × 2 columns</p>\n",
       "</div>"
      ],
      "text/plain": [
       "           Features  weight changes\n",
       "0        burlingham    1.352656e+04\n",
       "1           piddles    1.352960e+04\n",
       "2     conditionally    1.354892e+04\n",
       "3      attractively    1.359435e+04\n",
       "4         religions    1.359561e+04\n",
       "5          stocking    1.359826e+04\n",
       "6               ver    1.363627e+04\n",
       "7           adverts    1.365356e+04\n",
       "8            closet    1.368450e+04\n",
       "9            shores    1.372722e+04\n",
       "10         flinging    1.374712e+04\n",
       "11         convince    1.383753e+04\n",
       "12         shittake    1.391263e+04\n",
       "13       adulterate    1.397408e+04\n",
       "14           jackie    1.400164e+04\n",
       "15         numbness    1.407187e+04\n",
       "16         tutelage    1.412843e+04\n",
       "17     traditonally    1.418128e+04\n",
       "18        bountiful    1.422872e+04\n",
       "19        emphysema    1.428825e+04\n",
       "20          playful    1.435085e+04\n",
       "21            sills    1.435210e+04\n",
       "22          injurys    1.435356e+04\n",
       "23      suppository    1.435839e+04\n",
       "24    pediatrictian    1.437073e+04\n",
       "25       innovative    1.442020e+04\n",
       "26           phenol    1.444014e+04\n",
       "27        powedered    1.444830e+04\n",
       "28           lickin    1.450718e+04\n",
       "29        religious    1.451698e+04\n",
       "..              ...             ...\n",
       "229        pottying    8.348541e+04\n",
       "230           males    8.349199e+04\n",
       "231        namesake    8.592645e+04\n",
       "232         overlap    8.745063e+04\n",
       "233      evangelist    9.356318e+04\n",
       "234         verdict    9.738471e+04\n",
       "235        drizzles    9.872129e+04\n",
       "236            lrrp    1.028064e+05\n",
       "237          ersatz    1.039183e+05\n",
       "238         avocado    1.112791e+05\n",
       "239         reciept    1.171458e+05\n",
       "240      preferably    1.176577e+05\n",
       "241  pressurization    1.180067e+05\n",
       "242         cicadas    1.197462e+05\n",
       "243        sideways    1.241074e+05\n",
       "244         denoted    1.255917e+05\n",
       "245        stacking    1.297080e+05\n",
       "246       rendering    1.332907e+05\n",
       "247       supervise    1.590916e+05\n",
       "248     frustration    1.643513e+05\n",
       "249          wrongo    1.756809e+05\n",
       "250         buckets    1.769318e+05\n",
       "251     terminology    1.816881e+05\n",
       "252         hearing    2.170599e+05\n",
       "253          messes    5.073897e+05\n",
       "254       espressos    6.052926e+05\n",
       "255          nephew    7.129047e+05\n",
       "256              sc    7.150929e+05\n",
       "257       filtering    1.117796e+06\n",
       "258          krispy    3.855598e+06\n",
       "\n",
       "[259 rows x 2 columns]"
      ]
     },
     "execution_count": 63,
     "metadata": {},
     "output_type": "execute_result"
    }
   ],
   "source": [
    "feature_w_changes=pd.DataFrame({'Features':bow.get_feature_names(), 'weight changes':weight_changes.ravel()})\n",
    "\n",
    "print('Features whose weight changes abruptly. 99.25 to 100 percentile features')\n",
    "feature_w_changes.sort_values(by='weight changes').iloc[34312:34571].reset_index(drop=True)\n"
   ]
  },
  {
   "cell_type": "markdown",
   "metadata": {
    "colab_type": "text",
    "id": "eB1rF0BQLPpG"
   },
   "source": [
    "### [5.1.3] Feature Importance on BOW,<font color='red'> SET 1</font>"
   ]
  },
  {
   "cell_type": "markdown",
   "metadata": {
    "colab_type": "text",
    "id": "JZTP19dqLPpI"
   },
   "source": [
    "#### [5.1.3.1] Top 10 important features of positive class from<font color='red'> SET 1</font>"
   ]
  },
  {
   "cell_type": "code",
   "execution_count": 64,
   "metadata": {
    "colab": {},
    "colab_type": "code",
    "id": "oGRpCVJgLPpI",
    "scrolled": true
   },
   "outputs": [
    {
     "name": "stdout",
     "output_type": "stream",
     "text": [
      "Top 10 important features of positive class are:\n",
      "--------- Features ---------\n"
     ]
    },
    {
     "data": {
      "text/html": [
       "<div>\n",
       "<style scoped>\n",
       "    .dataframe tbody tr th:only-of-type {\n",
       "        vertical-align: middle;\n",
       "    }\n",
       "\n",
       "    .dataframe tbody tr th {\n",
       "        vertical-align: top;\n",
       "    }\n",
       "\n",
       "    .dataframe thead th {\n",
       "        text-align: right;\n",
       "    }\n",
       "</style>\n",
       "<table border=\"1\" class=\"dataframe\">\n",
       "  <thead>\n",
       "    <tr style=\"text-align: right;\">\n",
       "      <th></th>\n",
       "      <th>Feature_name</th>\n",
       "      <th>feature_imp</th>\n",
       "    </tr>\n",
       "  </thead>\n",
       "  <tbody>\n",
       "    <tr>\n",
       "      <th>0</th>\n",
       "      <td>great</td>\n",
       "      <td>0.098114</td>\n",
       "    </tr>\n",
       "    <tr>\n",
       "      <th>1</th>\n",
       "      <td>product</td>\n",
       "      <td>0.069127</td>\n",
       "    </tr>\n",
       "    <tr>\n",
       "      <th>2</th>\n",
       "      <td>find</td>\n",
       "      <td>0.065742</td>\n",
       "    </tr>\n",
       "    <tr>\n",
       "      <th>3</th>\n",
       "      <td>best</td>\n",
       "      <td>0.063510</td>\n",
       "    </tr>\n",
       "    <tr>\n",
       "      <th>4</th>\n",
       "      <td>buy</td>\n",
       "      <td>0.059677</td>\n",
       "    </tr>\n",
       "    <tr>\n",
       "      <th>5</th>\n",
       "      <td>always</td>\n",
       "      <td>0.056659</td>\n",
       "    </tr>\n",
       "    <tr>\n",
       "      <th>6</th>\n",
       "      <td>flavor</td>\n",
       "      <td>0.056479</td>\n",
       "    </tr>\n",
       "    <tr>\n",
       "      <th>7</th>\n",
       "      <td>good</td>\n",
       "      <td>0.051537</td>\n",
       "    </tr>\n",
       "    <tr>\n",
       "      <th>8</th>\n",
       "      <td>loves</td>\n",
       "      <td>0.050383</td>\n",
       "    </tr>\n",
       "    <tr>\n",
       "      <th>9</th>\n",
       "      <td>nice</td>\n",
       "      <td>0.048195</td>\n",
       "    </tr>\n",
       "  </tbody>\n",
       "</table>\n",
       "</div>"
      ],
      "text/plain": [
       "  Feature_name  feature_imp\n",
       "0        great     0.098114\n",
       "1      product     0.069127\n",
       "2         find     0.065742\n",
       "3         best     0.063510\n",
       "4          buy     0.059677\n",
       "5       always     0.056659\n",
       "6       flavor     0.056479\n",
       "7         good     0.051537\n",
       "8        loves     0.050383\n",
       "9         nice     0.048195"
      ]
     },
     "execution_count": 64,
     "metadata": {},
     "output_type": "execute_result"
    }
   ],
   "source": [
    "z=bow.get_feature_names()\n",
    "feature_imp=dict(zip(z, w[0]))\n",
    "\n",
    "df_feature_imp=pd.DataFrame(data={'Feature_name':z, 'feature_imp':w[0]})\n",
    "\n",
    "dff=df_feature_imp.sort_values(by=['feature_imp'], ascending=False)[:10]\n",
    "\n",
    "print('Top 10 important features of positive class are:')\n",
    "print('-'*9, 'Features', '-'*9)\n",
    "\n",
    "dff.reset_index(drop=True)\n"
   ]
  },
  {
   "cell_type": "markdown",
   "metadata": {
    "colab_type": "text",
    "id": "UJLYBE1gLPpJ"
   },
   "source": [
    "#### [5.1.3.2] Top 10 important features of negative class from<font color='red'> SET 1</font>"
   ]
  },
  {
   "cell_type": "code",
   "execution_count": 65,
   "metadata": {
    "colab": {},
    "colab_type": "code",
    "id": "c9r7Zjx1LPpK"
   },
   "outputs": [
    {
     "name": "stdout",
     "output_type": "stream",
     "text": [
      "Top 10 important features of positive class are:\n",
      "--------- Features ---------\n"
     ]
    },
    {
     "data": {
      "text/html": [
       "<div>\n",
       "<style scoped>\n",
       "    .dataframe tbody tr th:only-of-type {\n",
       "        vertical-align: middle;\n",
       "    }\n",
       "\n",
       "    .dataframe tbody tr th {\n",
       "        vertical-align: top;\n",
       "    }\n",
       "\n",
       "    .dataframe thead th {\n",
       "        text-align: right;\n",
       "    }\n",
       "</style>\n",
       "<table border=\"1\" class=\"dataframe\">\n",
       "  <thead>\n",
       "    <tr style=\"text-align: right;\">\n",
       "      <th></th>\n",
       "      <th>Feature_name</th>\n",
       "      <th>feature_imp</th>\n",
       "    </tr>\n",
       "  </thead>\n",
       "  <tbody>\n",
       "    <tr>\n",
       "      <th>0</th>\n",
       "      <td>cheese</td>\n",
       "      <td>-0.036572</td>\n",
       "    </tr>\n",
       "    <tr>\n",
       "      <th>1</th>\n",
       "      <td>whole</td>\n",
       "      <td>-0.034208</td>\n",
       "    </tr>\n",
       "    <tr>\n",
       "      <th>2</th>\n",
       "      <td>raw</td>\n",
       "      <td>-0.033431</td>\n",
       "    </tr>\n",
       "    <tr>\n",
       "      <th>3</th>\n",
       "      <td>bag</td>\n",
       "      <td>-0.032857</td>\n",
       "    </tr>\n",
       "    <tr>\n",
       "      <th>4</th>\n",
       "      <td>pie</td>\n",
       "      <td>-0.029001</td>\n",
       "    </tr>\n",
       "    <tr>\n",
       "      <th>5</th>\n",
       "      <td>pounds</td>\n",
       "      <td>-0.026755</td>\n",
       "    </tr>\n",
       "    <tr>\n",
       "      <th>6</th>\n",
       "      <td>oil</td>\n",
       "      <td>-0.025428</td>\n",
       "    </tr>\n",
       "    <tr>\n",
       "      <th>7</th>\n",
       "      <td>food</td>\n",
       "      <td>-0.023854</td>\n",
       "    </tr>\n",
       "    <tr>\n",
       "      <th>8</th>\n",
       "      <td>soy</td>\n",
       "      <td>-0.023784</td>\n",
       "    </tr>\n",
       "    <tr>\n",
       "      <th>9</th>\n",
       "      <td>foods</td>\n",
       "      <td>-0.023444</td>\n",
       "    </tr>\n",
       "  </tbody>\n",
       "</table>\n",
       "</div>"
      ],
      "text/plain": [
       "  Feature_name  feature_imp\n",
       "0       cheese    -0.036572\n",
       "1        whole    -0.034208\n",
       "2          raw    -0.033431\n",
       "3          bag    -0.032857\n",
       "4          pie    -0.029001\n",
       "5       pounds    -0.026755\n",
       "6          oil    -0.025428\n",
       "7         food    -0.023854\n",
       "8          soy    -0.023784\n",
       "9        foods    -0.023444"
      ]
     },
     "execution_count": 65,
     "metadata": {},
     "output_type": "execute_result"
    }
   ],
   "source": [
    "z=bow.get_feature_names()\n",
    "feature_imp=dict(zip(z, w[0]))\n",
    "\n",
    "df_feature_imp=pd.DataFrame(data={'Feature_name':z, 'feature_imp':w[0]})\n",
    "\n",
    "dff=df_feature_imp.sort_values(by=['feature_imp'])[:10]\n",
    "\n",
    "print('Top 10 important features of positive class are:')\n",
    "print('-'*9, 'Features', '-'*9)\n",
    "dff.reset_index(drop=True)\n"
   ]
  },
  {
   "cell_type": "markdown",
   "metadata": {
    "colab_type": "text",
    "id": "nKn3VXcZLPpN"
   },
   "source": [
    "## [5.2] Logistic Regression on TFIDF,<font color='red'> SET 2</font>"
   ]
  },
  {
   "cell_type": "markdown",
   "metadata": {
    "colab_type": "text",
    "id": "naTBSzm6LPpN"
   },
   "source": [
    "### [5.2.1] Applying Logistic Regression with L1 regularization on TFIDF,<font color='red'> SET 2</font>"
   ]
  },
  {
   "cell_type": "code",
   "execution_count": 66,
   "metadata": {
    "colab": {},
    "colab_type": "code",
    "id": "PEhaagXXLPpS"
   },
   "outputs": [
    {
     "name": "stdout",
     "output_type": "stream",
     "text": [
      "we are getting max auc of 0.507 on C=10000\n"
     ]
    },
    {
     "data": {
      "image/png": "[encoded data removed]",
      "text/plain": [
       "<Figure size 432x288 with 1 Axes>"
      ]
     },
     "metadata": {
      "needs_background": "light"
     },
     "output_type": "display_data"
    }
   ],
   "source": [
    "from sklearn.model_selection import train_test_split\n",
    "from sklearn.linear_model import LogisticRegression\n",
    "from sklearn.model_selection import GridSearchCV\n",
    "from sklearn.metrics import roc_auc_score\n",
    "import math\n",
    "import scikitplot.metrics as skplt\n",
    "\n",
    "x=preprocessed_reviews[:50000]\n",
    "y=filtered_data['Score'][:50000]\n",
    "\n",
    "x_tr, x_cv, y_tr, y_cv = train_test_split(x, y, test_size=0.2)\n",
    "x_train, x_test, y_train, y_test = train_test_split(x_tr, y_tr, test_size=0.2)\n",
    "\n",
    "tfidf=TfidfVectorizer(ngram_range=(1,2))\n",
    "tfidf.fit(x_train)\n",
    "x_train=tfidf.transform(x_train)\n",
    "x_cv=tfidf.transform(x_cv)\n",
    "x_test=tfidf.transform(x_test)\n",
    "\n",
    "auc_train_list=[]\n",
    "auc_cv_list=[]\n",
    "c=[10**-5, 10**-4, 10**-3, 10**-2, 10**-1, 1, 10**1, 10**2, 10**3, 10**4, 10**5]\n",
    "for i in c:\n",
    "    model=LogisticRegression(penalty='l1', C=i)\n",
    "    model.fit(x_train, y_train)\n",
    "    pred_train=model.predict_proba(x_train)[:,1]\n",
    "    pred_cv=model.predict_proba(x_cv)[:,1]\n",
    "    auc_cv=roc_auc_score(y_cv, pred_cv)\n",
    "    auc_train=roc_auc_score(y_train, pred_train)\n",
    "    auc_cv_list.append(auc_cv)\n",
    "    auc_train_list.append(auc_train)\n",
    "    #print('we are getting auc={x} for C={y}'.format(x=round(auc_cv,3), y=i))\n",
    "    \n",
    "log_c = [math.log(i) for i in c]\n",
    "print('we are getting max auc of {x} on C={y}'.format(x=round(max(auc_cv_list),3), y=c[auc_cv_list.index(max(auc_cv_list))]))\n",
    "plt.plot(log_c, auc_cv_list, label='CV data');\n",
    "plt.plot(log_c, auc_train_list, label='Trian Data');\n",
    "plt.legend()\n",
    "plt.xlabel('C Value')\n",
    "plt.ylabel('AUC')\n",
    "plt.title('AUC wrt C')\n",
    "plt.show()"
   ]
  },
  {
   "cell_type": "code",
   "execution_count": 69,
   "metadata": {},
   "outputs": [
    {
     "data": {
      "image/png": "[encoded data removed]",
      "text/plain": [
       "<Figure size 432x288 with 1 Axes>"
      ]
     },
     "metadata": {
      "needs_background": "light"
     },
     "output_type": "display_data"
    },
    {
     "name": "stdout",
     "output_type": "stream",
     "text": [
      "------------ plotting confusion matrix ------------\n"
     ]
    },
    {
     "data": {
      "image/png": "[encoded data removed]",
      "text/plain": [
       "<Figure size 432x288 with 2 Axes>"
      ]
     },
     "metadata": {
      "needs_background": "light"
     },
     "output_type": "display_data"
    },
    {
     "data": {
      "image/png": "[encoded data removed]",
      "text/plain": [
       "<Figure size 432x288 with 2 Axes>"
      ]
     },
     "metadata": {
      "needs_background": "light"
     },
     "output_type": "display_data"
    }
   ],
   "source": [
    "#print(\"Now let's train our test data with c={x}\".format(x=c[auc_list.index(max(auc_list))]))\n",
    "#print('-'*14, 'finding auc', '-'*14)\n",
    "from sklearn.metrics import auc\n",
    "\n",
    "model1=LogisticRegression(penalty='l1',C=0.1)\n",
    "model1.fit(x_train, y_train)\n",
    "y_pred_test = model1.predict_proba(x_test)[:,1]\n",
    "y_pred_test_1 = model1.predict(x_test)\n",
    "y_pred_train = model1.predict_proba(x_train)[:,1]\n",
    "y_pred_train_1 = model1.predict(x_train)\n",
    "\n",
    "#plotting ROC curve of test data\n",
    "\n",
    "fpr_test, tpr_test, threshold = roc_curve(y_test, y_pred_test)\n",
    "fpr_train, tpr_train, threshold = roc_curve(y_train, y_pred_train)\n",
    "plt.plot([0,1], [0,1], linestyle='--')\n",
    "plt.plot(fpr_train, tpr_train, marker='.', label='Train Auc={x}'.format(x=round(auc(fpr_train,tpr_train),3)))\n",
    "plt.plot(fpr_test, tpr_test, marker='.', label='Test Auc={x}'.format(x=round(auc(fpr_test,tpr_test),3)))\n",
    "plt.legend()\n",
    "plt.xlabel('False Psotive Rate')\n",
    "plt.ylabel('True Positive Rate')\n",
    "plt.show()\n",
    "\n",
    "print('-'*12, 'plotting confusion matrix', '-'*12)\n",
    "skplt.plot_confusion_matrix(y_test, y_pred_test_1);\n",
    "plt.title('Confusion matrix Test')\n",
    "plt.show();\n",
    "\n",
    "skplt.plot_confusion_matrix(y_train, y_pred_train_1)\n",
    "plt.title('Confusion matrix Train')\n",
    "plt.show();"
   ]
  },
  {
   "cell_type": "markdown",
   "metadata": {
    "colab_type": "text",
    "id": "NdFShHQJLPpV"
   },
   "source": [
    "### [5.2.2] Applying Logistic Regression with L2 regularization on TFIDF,<font color='red'> SET 2</font>"
   ]
  },
  {
   "cell_type": "code",
   "execution_count": 70,
   "metadata": {
    "colab": {},
    "colab_type": "code",
    "id": "Jyhq3JDzLPpW"
   },
   "outputs": [
    {
     "name": "stdout",
     "output_type": "stream",
     "text": [
      "we are getting max auc of 0.5325415630764339 on C=10\n"
     ]
    },
    {
     "data": {
      "image/png": "[encoded data removed]",
      "text/plain": [
       "<Figure size 432x288 with 1 Axes>"
      ]
     },
     "metadata": {
      "needs_background": "light"
     },
     "output_type": "display_data"
    }
   ],
   "source": [
    "from sklearn.model_selection import train_test_split\n",
    "from sklearn.linear_model import LogisticRegression\n",
    "from sklearn.model_selection import GridSearchCV\n",
    "from sklearn.metrics import roc_auc_score\n",
    "import math\n",
    "import scikitplot.metrics as skplt\n",
    "\n",
    "x=preprocessed_reviews[:50000]\n",
    "y=filtered_data['Score'][:50000]\n",
    "\n",
    "x_tr, x_cv, y_tr, y_cv = train_test_split(x, y, test_size=0.2)\n",
    "x_train, x_test, y_train, y_test = train_test_split(x_tr, y_tr, test_size=0.2)\n",
    "\n",
    "tfidf=TfidfVectorizer(ngram_range=(1,2))\n",
    "x_train=tfidf.fit_transform(x_train)\n",
    "x_cv=tfidf.transform(x_cv)\n",
    "x_test=tfidf.transform(x_test)\n",
    "\n",
    "auc_train_list=[]\n",
    "auc_cv_list=[]\n",
    "c=[10**-5, 10**-4, 10**-3, 10**-2, 10**-1, 1, 10**1, 10**2, 10**3, 10**4, 10**5]\n",
    "for i in c:\n",
    "    model=LogisticRegression(penalty='l2', C=i)\n",
    "    model.fit(x_train, y_train)\n",
    "    pred_train=model.predict_proba(x_train)[:,1]\n",
    "    pred_cv=model.predict_proba(x_cv)[:,1]\n",
    "    auc_cv=roc_auc_score(y_cv, pred_cv)\n",
    "    auc_train=roc_auc_score(y_train, pred_train)\n",
    "    auc_cv_list.append(auc_cv)\n",
    "    auc_train_list.append(auc_train)\n",
    "    #print('we are getting auc={x} for C={y}'.format(x=round(auc_cv,3), y=i))\n",
    "    \n",
    "log_c = [math.log(i) for i in c]\n",
    "print('we are getting max auc of {x} on C={y}'.format(x=max(auc_cv_list), y=c[auc_cv_list.index(max(auc_cv_list))]))\n",
    "plt.plot(log_c, auc_cv_list, label='CV data');\n",
    "plt.plot(log_c, auc_train_list, label='Trian Data');\n",
    "plt.legend()\n",
    "plt.xlabel('C Value')\n",
    "plt.ylabel('AUC')\n",
    "plt.title('AUC wrt C')\n",
    "plt.show()"
   ]
  },
  {
   "cell_type": "code",
   "execution_count": 71,
   "metadata": {},
   "outputs": [
    {
     "data": {
      "image/png": "[encoded data removed]",
      "text/plain": [
       "<Figure size 432x288 with 1 Axes>"
      ]
     },
     "metadata": {
      "needs_background": "light"
     },
     "output_type": "display_data"
    },
    {
     "name": "stdout",
     "output_type": "stream",
     "text": [
      "------------ plotting confusion matrix ------------\n"
     ]
    },
    {
     "data": {
      "image/png": "[encoded data removed]",
      "text/plain": [
       "<Figure size 432x288 with 2 Axes>"
      ]
     },
     "metadata": {
      "needs_background": "light"
     },
     "output_type": "display_data"
    },
    {
     "data": {
      "image/png": "[encoded data removed]",
      "text/plain": [
       "<Figure size 432x288 with 2 Axes>"
      ]
     },
     "metadata": {
      "needs_background": "light"
     },
     "output_type": "display_data"
    }
   ],
   "source": [
    "#print(\"Now let's train our test data with c={x}\".format(x=c[auc_cv_list.index(max(auc_cv_list))]))\n",
    "#print('-'*14, 'finding auc', '-'*14)\n",
    "\n",
    "model1=LogisticRegression(penalty='l2',C=10**-3)\n",
    "model1.fit(x_train, y_train)\n",
    "y_pred_test = model1.predict_proba(x_test)[:,1]\n",
    "y_pred_test_1 = model1.predict(x_test)\n",
    "y_pred_train = model1.predict_proba(x_train)[:,1]\n",
    "y_pred_train_1 = model1.predict(x_train)\n",
    "\n",
    "#plotting ROC curve of test data\n",
    "\n",
    "fpr_test, tpr_test, threshold = roc_curve(y_test, y_pred_test)\n",
    "fpr_train, tpr_train, threshold = roc_curve(y_train, y_pred_train)\n",
    "plt.plot([0,1], [0,1], linestyle='--')\n",
    "plt.plot(fpr_train, tpr_train, marker='.', label='Train Auc={x}'.format(x=round(auc(fpr_train,tpr_train),3)))\n",
    "plt.plot(fpr_test, tpr_test, marker='.', label='Test Auc={x}'.format(x=round(auc(fpr_test,tpr_test),3)))\n",
    "plt.legend()\n",
    "plt.xlabel('False Psotive Rate')\n",
    "plt.ylabel('True Positive Rate')\n",
    "plt.show()\n",
    "\n",
    "print('-'*12, 'plotting confusion matrix', '-'*12)\n",
    "skplt.plot_confusion_matrix(y_test, y_pred_test_1);\n",
    "plt.title('Confusion matrix Test')\n",
    "plt.show()\n",
    "\n",
    "skplt.plot_confusion_matrix(y_train, y_pred_train_1);\n",
    "plt.title('Confusion matrix Train')\n",
    "plt.show();"
   ]
  },
  {
   "cell_type": "markdown",
   "metadata": {
    "colab_type": "text",
    "id": "xeeJ8eVvLPpX"
   },
   "source": [
    "### [5.2.3] Feature Importance on TFIDF,<font color='red'> SET 2</font>"
   ]
  },
  {
   "cell_type": "markdown",
   "metadata": {
    "colab_type": "text",
    "id": "Cj9XEmqQLPpY"
   },
   "source": [
    "#### [5.2.3.1] Top 10 important features of positive class from<font color='red'> SET 2</font>"
   ]
  },
  {
   "cell_type": "code",
   "execution_count": 72,
   "metadata": {
    "colab": {},
    "colab_type": "code",
    "id": "RG10txygLPpb"
   },
   "outputs": [
    {
     "name": "stdout",
     "output_type": "stream",
     "text": [
      "Top 10 important features of positive class are:\n",
      "--------- Features ---------\n"
     ]
    },
    {
     "data": {
      "text/html": [
       "<div>\n",
       "<style scoped>\n",
       "    .dataframe tbody tr th:only-of-type {\n",
       "        vertical-align: middle;\n",
       "    }\n",
       "\n",
       "    .dataframe tbody tr th {\n",
       "        vertical-align: top;\n",
       "    }\n",
       "\n",
       "    .dataframe thead th {\n",
       "        text-align: right;\n",
       "    }\n",
       "</style>\n",
       "<table border=\"1\" class=\"dataframe\">\n",
       "  <thead>\n",
       "    <tr style=\"text-align: right;\">\n",
       "      <th></th>\n",
       "      <th>Feature_name</th>\n",
       "      <th>feature_imp</th>\n",
       "    </tr>\n",
       "  </thead>\n",
       "  <tbody>\n",
       "    <tr>\n",
       "      <th>0</th>\n",
       "      <td>not</td>\n",
       "      <td>0.028455</td>\n",
       "    </tr>\n",
       "    <tr>\n",
       "      <th>1</th>\n",
       "      <td>tea</td>\n",
       "      <td>0.019780</td>\n",
       "    </tr>\n",
       "    <tr>\n",
       "      <th>2</th>\n",
       "      <td>good</td>\n",
       "      <td>0.015230</td>\n",
       "    </tr>\n",
       "    <tr>\n",
       "      <th>3</th>\n",
       "      <td>product</td>\n",
       "      <td>0.014833</td>\n",
       "    </tr>\n",
       "    <tr>\n",
       "      <th>4</th>\n",
       "      <td>like</td>\n",
       "      <td>0.014611</td>\n",
       "    </tr>\n",
       "    <tr>\n",
       "      <th>5</th>\n",
       "      <td>great</td>\n",
       "      <td>0.013977</td>\n",
       "    </tr>\n",
       "    <tr>\n",
       "      <th>6</th>\n",
       "      <td>love</td>\n",
       "      <td>0.011848</td>\n",
       "    </tr>\n",
       "    <tr>\n",
       "      <th>7</th>\n",
       "      <td>taste</td>\n",
       "      <td>0.011614</td>\n",
       "    </tr>\n",
       "    <tr>\n",
       "      <th>8</th>\n",
       "      <td>flavor</td>\n",
       "      <td>0.011216</td>\n",
       "    </tr>\n",
       "    <tr>\n",
       "      <th>9</th>\n",
       "      <td>use</td>\n",
       "      <td>0.011140</td>\n",
       "    </tr>\n",
       "  </tbody>\n",
       "</table>\n",
       "</div>"
      ],
      "text/plain": [
       "  Feature_name  feature_imp\n",
       "0          not     0.028455\n",
       "1          tea     0.019780\n",
       "2         good     0.015230\n",
       "3      product     0.014833\n",
       "4         like     0.014611\n",
       "5        great     0.013977\n",
       "6         love     0.011848\n",
       "7        taste     0.011614\n",
       "8       flavor     0.011216\n",
       "9          use     0.011140"
      ]
     },
     "execution_count": 72,
     "metadata": {},
     "output_type": "execute_result"
    }
   ],
   "source": [
    "z=tfidf.get_feature_names()\n",
    "feature_imp=dict(zip(z, model1.coef_[0]))\n",
    "\n",
    "df_feature_imp=pd.DataFrame(data={'Feature_name':z, 'feature_imp':model1.coef_[0]})\n",
    "\n",
    "dff=df_feature_imp.sort_values(by=['feature_imp'], ascending=False)[:10]\n",
    "\n",
    "print('Top 10 important features of positive class are:')\n",
    "print('-'*9, 'Features', '-'*9)\n",
    "\n",
    "dff.reset_index(drop=True)\n"
   ]
  },
  {
   "cell_type": "markdown",
   "metadata": {
    "colab_type": "text",
    "id": "PowEfns4LPpg"
   },
   "source": [
    "#### [5.2.3.2] Top 10 important features of negative class from<font color='red'> SET 2</font>"
   ]
  },
  {
   "cell_type": "code",
   "execution_count": 74,
   "metadata": {
    "colab": {},
    "colab_type": "code",
    "id": "G7jrma95LPpg"
   },
   "outputs": [
    {
     "name": "stdout",
     "output_type": "stream",
     "text": [
      "Top 10 important features of -ve class are:\n",
      "--------- Features ---------\n"
     ]
    },
    {
     "data": {
      "text/html": [
       "<div>\n",
       "<style scoped>\n",
       "    .dataframe tbody tr th:only-of-type {\n",
       "        vertical-align: middle;\n",
       "    }\n",
       "\n",
       "    .dataframe tbody tr th {\n",
       "        vertical-align: top;\n",
       "    }\n",
       "\n",
       "    .dataframe thead th {\n",
       "        text-align: right;\n",
       "    }\n",
       "</style>\n",
       "<table border=\"1\" class=\"dataframe\">\n",
       "  <thead>\n",
       "    <tr style=\"text-align: right;\">\n",
       "      <th></th>\n",
       "      <th>Feature_name</th>\n",
       "      <th>feature_imp</th>\n",
       "    </tr>\n",
       "  </thead>\n",
       "  <tbody>\n",
       "    <tr>\n",
       "      <th>0</th>\n",
       "      <td>balance</td>\n",
       "      <td>-0.001600</td>\n",
       "    </tr>\n",
       "    <tr>\n",
       "      <th>1</th>\n",
       "      <td>coke</td>\n",
       "      <td>-0.001494</td>\n",
       "    </tr>\n",
       "    <tr>\n",
       "      <th>2</th>\n",
       "      <td>coconut oil</td>\n",
       "      <td>-0.001458</td>\n",
       "    </tr>\n",
       "    <tr>\n",
       "      <th>3</th>\n",
       "      <td>great price</td>\n",
       "      <td>-0.001449</td>\n",
       "    </tr>\n",
       "    <tr>\n",
       "      <th>4</th>\n",
       "      <td>huckleberry</td>\n",
       "      <td>-0.001269</td>\n",
       "    </tr>\n",
       "    <tr>\n",
       "      <th>5</th>\n",
       "      <td>lobster</td>\n",
       "      <td>-0.001192</td>\n",
       "    </tr>\n",
       "    <tr>\n",
       "      <th>6</th>\n",
       "      <td>brownie</td>\n",
       "      <td>-0.001178</td>\n",
       "    </tr>\n",
       "    <tr>\n",
       "      <th>7</th>\n",
       "      <td>dry food</td>\n",
       "      <td>-0.001137</td>\n",
       "    </tr>\n",
       "    <tr>\n",
       "      <th>8</th>\n",
       "      <td>trap</td>\n",
       "      <td>-0.001130</td>\n",
       "    </tr>\n",
       "    <tr>\n",
       "      <th>9</th>\n",
       "      <td>natural balance</td>\n",
       "      <td>-0.001116</td>\n",
       "    </tr>\n",
       "  </tbody>\n",
       "</table>\n",
       "</div>"
      ],
      "text/plain": [
       "      Feature_name  feature_imp\n",
       "0          balance    -0.001600\n",
       "1             coke    -0.001494\n",
       "2      coconut oil    -0.001458\n",
       "3      great price    -0.001449\n",
       "4      huckleberry    -0.001269\n",
       "5          lobster    -0.001192\n",
       "6          brownie    -0.001178\n",
       "7         dry food    -0.001137\n",
       "8             trap    -0.001130\n",
       "9  natural balance    -0.001116"
      ]
     },
     "execution_count": 74,
     "metadata": {},
     "output_type": "execute_result"
    }
   ],
   "source": [
    "z=tfidf.get_feature_names()\n",
    "feature_imp=dict(zip(z, model1.coef_[0]))\n",
    "\n",
    "df_feature_imp=pd.DataFrame(data={'Feature_name':z, 'feature_imp':model1.coef_[0]})\n",
    "\n",
    "dff=df_feature_imp.sort_values(by=['feature_imp'])[:10]\n",
    "\n",
    "print('Top 10 important features of -ve class are:')\n",
    "print('-'*9, 'Features', '-'*9)\n",
    "\n",
    "dff.reset_index(drop=True)\n"
   ]
  },
  {
   "cell_type": "markdown",
   "metadata": {
    "colab_type": "text",
    "id": "sqYadGOgLPpi"
   },
   "source": [
    "## [5.3] Logistic Regression on AVG W2V,<font color='red'> SET 3</font>"
   ]
  },
  {
   "cell_type": "markdown",
   "metadata": {
    "colab_type": "text",
    "id": "kByBCEA1LPpj"
   },
   "source": [
    "### [5.3.1] Applying Logistic Regression with L1 regularization on AVG W2V<font color='red'> SET 3</font>"
   ]
  },
  {
   "cell_type": "code",
   "execution_count": 75,
   "metadata": {
    "colab": {},
    "colab_type": "code",
    "id": "yCQ_4iJkLPpj"
   },
   "outputs": [
    {
     "name": "stderr",
     "output_type": "stream",
     "text": [
      "100%|██████████| 32000/32000 [00:48<00:00, 659.59it/s]\n",
      "100%|██████████| 10000/10000 [00:15<00:00, 648.88it/s]\n",
      "100%|██████████| 8000/8000 [00:12<00:00, 631.19it/s]\n"
     ]
    },
    {
     "name": "stdout",
     "output_type": "stream",
     "text": [
      "we are getting max auc of 0.5123634069483961 on C=0.01\n"
     ]
    },
    {
     "data": {
      "image/png": "[encoded data removed]",
      "text/plain": [
       "<Figure size 432x288 with 1 Axes>"
      ]
     },
     "metadata": {
      "needs_background": "light"
     },
     "output_type": "display_data"
    }
   ],
   "source": [
    "from sklearn.model_selection import train_test_split\n",
    "from sklearn.feature_extraction.text import CountVectorizer\n",
    "from sklearn.feature_extraction.text import TfidfVectorizer\n",
    "from sklearn.metrics import roc_auc_score\n",
    "import matplotlib.pyplot as plt\n",
    "from sklearn.metrics import roc_curve\n",
    "import scikitplot.metrics as skplt\n",
    "from sklearn.metrics import auc\n",
    "\n",
    "y=filtered_data['Score'][:50000]\n",
    "\n",
    "df_2=pd.read_pickle('preprocess_reviews')\n",
    "x=df_2[:50000]\n",
    "\n",
    "x_tr, x_cv, y_tr, y_cv = train_test_split(x, y, test_size=0.2)\n",
    "x_train, x_test, y_train, y_test = train_test_split(x_tr, y_tr, test_size=0.2)\n",
    "\n",
    "#X_train\n",
    "\n",
    "list_of_sentence_train=[]\n",
    "for i in x_train:\n",
    "    list_of_sentence_train.append(i.split())\n",
    "    \n",
    "w2v_model_train = Word2Vec(list_of_sentence_train, min_count=5, size=50, workers=4)\n",
    "\n",
    "w2v_words_train=list(w2v_model_train.wv.vocab)\n",
    "\n",
    "x_train_wv=[]\n",
    "for sent in tqdm(list_of_sentence_train):\n",
    "    sent_vec=np.zeros(50)\n",
    "    cnt_word=0\n",
    "    for word in sent:\n",
    "        if word in w2v_words_train:\n",
    "            vect_w=w2v_model_train.wv[word]\n",
    "            sent_vec+=vect_w\n",
    "            cnt_word+=1\n",
    "    if cnt_word!=0:\n",
    "        sent_vec/=cnt_word\n",
    "    x_train_wv.append(sent_vec)\n",
    "    \n",
    "\n",
    "# X_CV\n",
    "\n",
    "list_of_sentence_cv=[]\n",
    "for i in x_cv:\n",
    "    list_of_sentence_cv.append(i.split())\n",
    "    \n",
    "x_cv_wv=[]\n",
    "for sent in tqdm(list_of_sentence_cv):\n",
    "    sent_vec=np.zeros(50)\n",
    "    cnt_word=0\n",
    "    for word in sent:\n",
    "        if word in w2v_words_train:\n",
    "            vect_w=w2v_model_train.wv[word]\n",
    "            sent_vec+=vect_w\n",
    "            cnt_word+=1\n",
    "    if cnt_word!=0:\n",
    "        sent_vec/=cnt_word\n",
    "    x_cv_wv.append(sent_vec)\n",
    "    \n",
    "\n",
    "#x_test\n",
    "\n",
    "list_of_sentence_test=[]\n",
    "for i in x_test:\n",
    "    list_of_sentence_test.append(i.split())\n",
    "\n",
    "x_test_wv=[]\n",
    "for sent in tqdm(list_of_sentence_test):\n",
    "    sent_vec=np.zeros(50)\n",
    "    cnt_word=0\n",
    "    for word in sent:\n",
    "        if word in w2v_words_train:\n",
    "            vect_w=w2v_model_train.wv[word]\n",
    "            sent_vec+=vect_w\n",
    "            cnt_word+=1\n",
    "    if cnt_word!=0:\n",
    "        sent_vec/=cnt_word\n",
    "    x_test_wv.append(sent_vec)\n",
    "\n",
    "#print(len(x_train), len(x_test), len(x_cv))\n",
    "\n",
    "auc_train_list=[]\n",
    "auc_cv_list=[]\n",
    "c=[10**-5, 10**-4, 10**-3, 10**-2, 10**-1, 1, 10**1, 10**2, 10**3, 10**4, 10**5]\n",
    "for i in c:\n",
    "    model=LogisticRegression(penalty='l1', C=i)\n",
    "    model.fit(x_train_wv, y_train)\n",
    "    pred_train=model.predict_proba(x_train_wv)[:,1]\n",
    "    pred_cv=model.predict_proba(x_cv_wv)[:,1]\n",
    "    auc_cv=roc_auc_score(y_cv, pred_cv)\n",
    "    auc_train=roc_auc_score(y_train, pred_train)\n",
    "    auc_cv_list.append(auc_cv)\n",
    "    auc_train_list.append(auc_train)\n",
    "    #print('we are getting auc={x} for C={y}'.format(x=round(auc_cv,3), y=i))\n",
    "    \n",
    "log_c = [math.log(i) for i in c]\n",
    "print('we are getting max auc of {x} on C={y}'.format(x=max(auc_cv_list), y=c[auc_cv_list.index(max(auc_cv_list))]))\n",
    "plt.plot(log_c, auc_cv_list, label='CV data');\n",
    "plt.plot(log_c, auc_train_list, label='Trian Data');\n",
    "plt.legend()\n",
    "plt.xlabel('C Value')\n",
    "plt.ylabel('AUC')\n",
    "plt.title('AUC wrt C')\n",
    "plt.show()\n"
   ]
  },
  {
   "cell_type": "code",
   "execution_count": 78,
   "metadata": {},
   "outputs": [
    {
     "data": {
      "image/png": "[encoded data removed]",
      "text/plain": [
       "<Figure size 432x288 with 1 Axes>"
      ]
     },
     "metadata": {
      "needs_background": "light"
     },
     "output_type": "display_data"
    },
    {
     "name": "stdout",
     "output_type": "stream",
     "text": [
      "------------ plotting confusion matrix ------------\n"
     ]
    },
    {
     "data": {
      "image/png": "[encoded data removed]",
      "text/plain": [
       "<Figure size 432x288 with 2 Axes>"
      ]
     },
     "metadata": {
      "needs_background": "light"
     },
     "output_type": "display_data"
    },
    {
     "data": {
      "image/png": "[encoded data removed]",
      "text/plain": [
       "<Figure size 432x288 with 2 Axes>"
      ]
     },
     "metadata": {
      "needs_background": "light"
     },
     "output_type": "display_data"
    }
   ],
   "source": [
    "#print(\"Now let's train our test data with c={x}\".format(x=c[auc_cv_list.index(max(auc_cv_list))]))\n",
    "#print('-'*14, 'finding auc', '-'*14)\n",
    "\n",
    "model1=LogisticRegression(penalty='l1',C=10**-2)\n",
    "model1.fit(x_train_wv, y_train)\n",
    "y_pred_test = model1.predict_proba(x_test_wv)[:,1]\n",
    "y_pred_test_1 = model1.predict(x_test_wv)\n",
    "y_pred_train = model1.predict_proba(x_train_wv)[:,1]\n",
    "y_pred_train_1 = model1.predict(x_train_wv)\n",
    "\n",
    "#plotting ROC curve of test data\n",
    "\n",
    "fpr_test, tpr_test, threshold = roc_curve(y_test, y_pred_test)\n",
    "fpr_train, tpr_train, threshold = roc_curve(y_train, y_pred_train)\n",
    "plt.plot([0,1], [0,1], linestyle='--')\n",
    "plt.plot(fpr_train, tpr_train, marker='.', label='Train Auc={x}'.format(x=round(auc(fpr_train,tpr_train),3)))\n",
    "plt.plot(fpr_test, tpr_test, marker='.', label='Test Auc={x}'.format(x=round(auc(fpr_test,tpr_test),3)))\n",
    "plt.plot([0,1], [0,1], linestyle='--')\n",
    "plt.legend()\n",
    "plt.xlabel('False Psotive Rate')\n",
    "plt.ylabel('True Positive Rate')\n",
    "plt.show()\n",
    "\n",
    "print('-'*12, 'plotting confusion matrix', '-'*12)\n",
    "skplt.plot_confusion_matrix(y_test, y_pred_test_1);\n",
    "plt.title('Confusion matrix Test')\n",
    "plt.show()\n",
    "\n",
    "skplt.plot_confusion_matrix(y_train, y_pred_train_1);\n",
    "plt.title('Confusion matrix Train')\n",
    "plt.show();"
   ]
  },
  {
   "cell_type": "markdown",
   "metadata": {
    "colab_type": "text",
    "id": "O_8Gu2SfLPpn"
   },
   "source": [
    "### [5.3.2] Applying Logistic Regression with L2 regularization on AVG W2V,<font color='red'> SET 3</font>"
   ]
  },
  {
   "cell_type": "code",
   "execution_count": 80,
   "metadata": {
    "colab": {},
    "colab_type": "code",
    "id": "Zy3s4jk1LPpn"
   },
   "outputs": [
    {
     "name": "stderr",
     "output_type": "stream",
     "text": [
      "100%|██████████| 32000/32000 [00:50<00:00, 630.95it/s]\n",
      "100%|██████████| 10000/10000 [00:16<00:00, 615.72it/s]\n",
      "100%|██████████| 8000/8000 [00:12<00:00, 615.80it/s]\n"
     ]
    },
    {
     "name": "stdout",
     "output_type": "stream",
     "text": [
      "we are getting max auc of 0.5126854017441348 on C=0.001\n"
     ]
    },
    {
     "data": {
      "image/png": "[encoded data removed]",
      "text/plain": [
       "<Figure size 432x288 with 1 Axes>"
      ]
     },
     "metadata": {
      "needs_background": "light"
     },
     "output_type": "display_data"
    }
   ],
   "source": [
    "from sklearn.model_selection import train_test_split\n",
    "from sklearn.feature_extraction.text import CountVectorizer\n",
    "from sklearn.feature_extraction.text import TfidfVectorizer\n",
    "from sklearn.metrics import roc_auc_score\n",
    "import matplotlib.pyplot as plt\n",
    "from sklearn.metrics import roc_curve\n",
    "import scikitplot.metrics as skplt\n",
    "from sklearn.metrics import auc\n",
    "\n",
    "y=filtered_data['Score'][:50000]\n",
    "\n",
    "df_2=pd.read_pickle('preprocess_reviews')\n",
    "x=df_2[:50000]\n",
    "\n",
    "x_tr, x_cv, y_tr, y_cv = train_test_split(x, y, test_size=0.2)\n",
    "x_train, x_test, y_train, y_test = train_test_split(x_tr, y_tr, test_size=0.2)\n",
    "\n",
    "#X_train\n",
    "\n",
    "list_of_sentence_train=[]\n",
    "for i in x_train:\n",
    "    list_of_sentence_train.append(i.split())\n",
    "    \n",
    "w2v_model_train = Word2Vec(list_of_sentence_train, min_count=5, size=50, workers=4)\n",
    "\n",
    "w2v_words_train=list(w2v_model_train.wv.vocab)\n",
    "\n",
    "x_train_wv=[]\n",
    "for sent in tqdm(list_of_sentence_train):\n",
    "    sent_vec=np.zeros(50)\n",
    "    cnt_word=0\n",
    "    for word in sent:\n",
    "        if word in w2v_words_train:\n",
    "            vect_w=w2v_model_train.wv[word]\n",
    "            sent_vec+=vect_w\n",
    "            cnt_word+=1\n",
    "    if cnt_word!=0:\n",
    "        sent_vec/=cnt_word\n",
    "    x_train_wv.append(sent_vec)\n",
    "    \n",
    "\n",
    "# X_CV\n",
    "\n",
    "list_of_sentence_cv=[]\n",
    "for i in x_cv:\n",
    "    list_of_sentence_cv.append(i.split())\n",
    "    \n",
    "x_cv_wv=[]\n",
    "for sent in tqdm(list_of_sentence_cv):\n",
    "    sent_vec=np.zeros(50)\n",
    "    cnt_word=0\n",
    "    for word in sent:\n",
    "        if word in w2v_words_train:\n",
    "            vect_w=w2v_model_train.wv[word]\n",
    "            sent_vec+=vect_w\n",
    "            cnt_word+=1\n",
    "    if cnt_word!=0:\n",
    "        sent_vec/=cnt_word\n",
    "    x_cv_wv.append(sent_vec)\n",
    "    \n",
    "\n",
    "#x_test\n",
    "\n",
    "list_of_sentence_test=[]\n",
    "for i in x_test:\n",
    "    list_of_sentence_test.append(i.split())\n",
    "\n",
    "x_test_wv=[]\n",
    "for sent in tqdm(list_of_sentence_test):\n",
    "    sent_vec=np.zeros(50)\n",
    "    cnt_word=0\n",
    "    for word in sent:\n",
    "        if word in w2v_words_train:\n",
    "            vect_w=w2v_model_train.wv[word]\n",
    "            sent_vec+=vect_w\n",
    "            cnt_word+=1\n",
    "    if cnt_word!=0:\n",
    "        sent_vec/=cnt_word\n",
    "    x_test_wv.append(sent_vec)\n",
    "\n",
    "#print(len(x_train), len(x_test), len(x_cv))\n",
    "\n",
    "auc_train_list=[]\n",
    "auc_cv_list=[]\n",
    "c=[10**-5, 10**-4, 10**-3, 10**-2, 10**-1, 1, 10**1, 10**2, 10**3, 10**4, 10**5]\n",
    "for i in c:\n",
    "    model=LogisticRegression(penalty='l2', C=i)\n",
    "    model.fit(x_train_wv, y_train)\n",
    "    pred_train=model.predict_proba(x_train_wv)[:,1]\n",
    "    pred_cv=model.predict_proba(x_cv_wv)[:,1]\n",
    "    auc_cv=roc_auc_score(y_cv, pred_cv)\n",
    "    auc_train=roc_auc_score(y_train, pred_train)\n",
    "    auc_cv_list.append(auc_cv)\n",
    "    auc_train_list.append(auc_train)\n",
    "    #print('we are getting auc={x} for C={y}'.format(x=round(auc_cv,3), y=i))\n",
    "    \n",
    "log_c = [math.log(i) for i in c]\n",
    "print('we are getting max auc of {x} on C={y}'.format(x=max(auc_cv_list), y=c[auc_cv_list.index(max(auc_cv_list))]))\n",
    "plt.plot(log_c, auc_cv_list, label='CV data');\n",
    "plt.plot(log_c, auc_train_list, label='Trian Data');\n",
    "plt.legend()\n",
    "plt.xlabel('C Value')\n",
    "plt.ylabel('AUC')\n",
    "plt.title('AUC wrt C')\n",
    "plt.show()\n"
   ]
  },
  {
   "cell_type": "code",
   "execution_count": 81,
   "metadata": {},
   "outputs": [
    {
     "data": {
      "image/png": "[encoded data removed]",
      "text/plain": [
       "<Figure size 432x288 with 1 Axes>"
      ]
     },
     "metadata": {
      "needs_background": "light"
     },
     "output_type": "display_data"
    },
    {
     "name": "stdout",
     "output_type": "stream",
     "text": [
      "------------ plotting confusion matrix ------------\n"
     ]
    },
    {
     "data": {
      "image/png": "[encoded data removed]",
      "text/plain": [
       "<Figure size 432x288 with 2 Axes>"
      ]
     },
     "metadata": {
      "needs_background": "light"
     },
     "output_type": "display_data"
    },
    {
     "data": {
      "image/png": "[encoded data removed]",
      "text/plain": [
       "<Figure size 432x288 with 2 Axes>"
      ]
     },
     "metadata": {
      "needs_background": "light"
     },
     "output_type": "display_data"
    }
   ],
   "source": [
    "#print(\"Now let's train our test data with c={x}\".format(x=c[auc_cv_list.index(max(auc_cv_list))]))\n",
    "#print('-'*14, 'finding auc', '-'*14)\n",
    "\n",
    "model1=LogisticRegression(penalty='l2',C=10**-2)\n",
    "model1.fit(x_train_wv, y_train)\n",
    "y_pred_test = model1.predict_proba(x_test_wv)[:,1]\n",
    "y_pred_test_1 = model1.predict(x_test_wv)\n",
    "y_pred_train = model1.predict_proba(x_train_wv)[:,1]\n",
    "y_pred_train_1 = model1.predict(x_train_wv)\n",
    "\n",
    "#plotting ROC curve of test data\n",
    "\n",
    "fpr_test, tpr_test, threshold = roc_curve(y_test, y_pred_test)\n",
    "fpr_train, tpr_train, threshold = roc_curve(y_train, y_pred_train)\n",
    "plt.plot([0,1], [0,1], linestyle='--')\n",
    "plt.plot(fpr_train, tpr_train, marker='.', label='Train Auc={x}'.format(x=round(auc(fpr_train,tpr_train),3)))\n",
    "plt.plot(fpr_test, tpr_test, marker='.', label='Test Auc={x}'.format(x=round(auc(fpr_test,tpr_test),3)))\n",
    "plt.legend()\n",
    "plt.xlabel('False Psotive Rate')\n",
    "plt.ylabel('True Positive Rate')\n",
    "plt.show()\n",
    "\n",
    "print('-'*12, 'plotting confusion matrix', '-'*12)\n",
    "skplt.plot_confusion_matrix(y_test, y_pred_test_1);\n",
    "plt.title('Confusion matrix Test')\n",
    "plt.show()\n",
    "\n",
    "skplt.plot_confusion_matrix(y_train, y_pred_train_1);\n",
    "plt.title('Confusion matrix Train')\n",
    "plt.show();"
   ]
  },
  {
   "cell_type": "markdown",
   "metadata": {
    "colab_type": "text",
    "id": "pdXTwVIPLPpp"
   },
   "source": [
    "## [5.4] Logistic Regression on TFIDF W2V,<font color='red'> SET 4</font>"
   ]
  },
  {
   "cell_type": "markdown",
   "metadata": {
    "colab_type": "text",
    "id": "WP9NjwNSLPpp"
   },
   "source": [
    "### [5.4.1] Applying Logistic Regression with L1 regularization on TFIDF W2V,<font color='red'> SET 4</font>"
   ]
  },
  {
   "cell_type": "code",
   "execution_count": 82,
   "metadata": {
    "colab": {},
    "colab_type": "code",
    "id": "207gYymwLPpq"
   },
   "outputs": [
    {
     "name": "stderr",
     "output_type": "stream",
     "text": [
      "100%|██████████| 32000/32000 [08:28<00:00, 62.98it/s]\n",
      "100%|██████████| 10000/10000 [02:42<00:00, 61.58it/s]\n",
      "100%|██████████| 8000/8000 [02:12<00:00, 60.48it/s]\n"
     ]
    },
    {
     "name": "stdout",
     "output_type": "stream",
     "text": [
      "we are getting max auc of 0.514116575888445 on C=10000\n"
     ]
    },
    {
     "data": {
      "image/png": "[encoded data removed]",
      "text/plain": [
       "<Figure size 432x288 with 1 Axes>"
      ]
     },
     "metadata": {
      "needs_background": "light"
     },
     "output_type": "display_data"
    }
   ],
   "source": [
    "from sklearn.model_selection import train_test_split\n",
    "from sklearn.feature_extraction.text import CountVectorizer\n",
    "from sklearn.feature_extraction.text import TfidfVectorizer\n",
    "from sklearn.metrics import roc_auc_score\n",
    "import matplotlib.pyplot as plt\n",
    "from sklearn.metrics import roc_curve\n",
    "import scikitplot.metrics as skplt\n",
    "from sklearn.metrics import auc\n",
    "\n",
    "y=filtered_data['Score'][:50000]\n",
    "\n",
    "df_2=pd.read_pickle('preprocess_reviews')\n",
    "x=df_2[:50000]\n",
    "x_tr, x_cv, y_tr, y_cv = train_test_split(x, y, test_size=0.2)\n",
    "x_train, x_test, y_train, y_test = train_test_split(x_tr, y_tr, test_size=0.2)\n",
    "\n",
    "#X_train\n",
    "\n",
    "model_train = TfidfVectorizer()\n",
    "model_train.fit(x_train)\n",
    "tf_idf_matrix = model_train.transform(x_train)\n",
    "# we are converting a dictionary with word as a key, and the idf as a value\n",
    "dictionary_train = dict(zip(model_train.get_feature_names(), list(model_train.idf_)))\n",
    "    \n",
    "# TF-IDF weighted Word2Vec\n",
    "tfidf_feat_train = model_train.get_feature_names() # tfidf words/col-names\n",
    "# final_tf_idf is the sparse matrix with row= sentence, col=word and cell_val = tfidf\n",
    "\n",
    "tfidf_sent_vectors_train = []; # the tfidf-w2v for each sentence/review is stored in this list\n",
    "\n",
    "list_of_sentence_train=[]\n",
    "for i in x_train:\n",
    "    list_of_sentence_train.append(i.split())\n",
    "    \n",
    "for sent in tqdm(list_of_sentence_train): # for each review/sentence \n",
    "    sent_vec = np.zeros(50) # as word vectors are of zero length\n",
    "    weight_sum =0; # num of words with a valid vector in the sentence/review\n",
    "    for word in sent: # for each word in a review/sentence\n",
    "        if word in w2v_words_train and word in tfidf_feat_train:\n",
    "            vec = w2v_model_train.wv[word]\n",
    "#             tf_idf = tf_idf_matrix[row, tfidf_feat.index(word)]\n",
    "            # to reduce the computation we are \n",
    "            # dictionary[word] = idf value of word in whole courpus\n",
    "            # sent.count(word) = tf valeus of word in this review\n",
    "            tf_idf = dictionary_train[word]*(sent.count(word)/len(sent))\n",
    "            sent_vec += (vec * tf_idf)\n",
    "            weight_sum += tf_idf\n",
    "    if weight_sum != 0:\n",
    "        sent_vec /= weight_sum\n",
    "    tfidf_sent_vectors_train.append(sent_vec)\n",
    "\n",
    "# X_CV\n",
    "\n",
    "tf_idf_matrix = model_train.transform(x_cv)\n",
    "# we are converting a dictionary with word as a key, and the idf as a value\n",
    "dictionary_cv = dict(zip(model_train.get_feature_names(), list(model_train.idf_)))\n",
    "    \n",
    "# TF-IDF weighted Word2Vec\n",
    "tfidf_feat_cv = model_train.get_feature_names() # tfidf words/col-names\n",
    "# final_tf_idf is the sparse matrix with row= sentence, col=word and cell_val = tfidf\n",
    "\n",
    "tfidf_sent_vectors_cv = []; # the tfidf-w2v for each sentence/review is stored in this list\n",
    "\n",
    "list_of_sentence_cv=[]\n",
    "for i in x_cv:\n",
    "    list_of_sentence_cv.append(i.split())\n",
    "    \n",
    "for sent in tqdm(list_of_sentence_cv): # for each review/sentence \n",
    "    sent_vec = np.zeros(50) # as word vectors are of zero length\n",
    "    weight_sum =0; # num of words with a valid vector in the sentence/review\n",
    "    for word in sent: # for each word in a review/sentence\n",
    "        if word in w2v_words_train and word in tfidf_feat_cv:\n",
    "            vec = w2v_model_train.wv[word]\n",
    "#             tf_idf = tf_idf_matrix[row, tfidf_feat.index(word)]\n",
    "            # to reduce the computation we are \n",
    "            # dictionary[word] = idf value of word in whole courpus\n",
    "            # sent.count(word) = tf valeus of word in this review\n",
    "            tf_idf = dictionary_cv[word]*(sent.count(word)/len(sent))\n",
    "            sent_vec += (vec * tf_idf)\n",
    "            weight_sum += tf_idf\n",
    "    if weight_sum != 0:\n",
    "        sent_vec /= weight_sum\n",
    "    tfidf_sent_vectors_cv.append(sent_vec)\n",
    "\n",
    "#x_test\n",
    "\n",
    "\n",
    "tf_idf_matrix = model_train.transform(x_test)\n",
    "# we are converting a dictionary with word as a key, and the idf as a value\n",
    "dictionary_test = dict(zip(model_train.get_feature_names(), list(model_train.idf_)))\n",
    "    \n",
    "# TF-IDF weighted Word2Vec\n",
    "tfidf_feat_test = model_train.get_feature_names() # tfidf words/col-names\n",
    "# final_tf_idf is the sparse matrix with row= sentence, col=word and cell_val = tfidf\n",
    "\n",
    "tfidf_sent_vectors_test = []; # the tfidf-w2v for each sentence/review is stored in this list\n",
    "\n",
    "list_of_sentence_test=[]\n",
    "for i in x_test:\n",
    "    list_of_sentence_test.append(i.split())\n",
    "    \n",
    "for sent in tqdm(list_of_sentence_test): # for each review/sentence \n",
    "    sent_vec = np.zeros(50) # as word vectors are of zero length\n",
    "    weight_sum =0; # num of words with a valid vector in the sentence/review\n",
    "    for word in sent: # for each word in a review/sentence\n",
    "        if word in w2v_words_train and word in tfidf_feat_test:\n",
    "            vec = w2v_model_train.wv[word]\n",
    "#             tf_idf = tf_idf_matrix[row, tfidf_feat.index(word)]\n",
    "            # to reduce the computation we are \n",
    "            # dictionary[word] = idf value of word in whole courpus\n",
    "            # sent.count(word) = tf valeus of word in this review\n",
    "            tf_idf = dictionary_test[word]*(sent.count(word)/len(sent))\n",
    "            sent_vec += (vec * tf_idf)\n",
    "            weight_sum += tf_idf\n",
    "    if weight_sum != 0:\n",
    "        sent_vec /= weight_sum\n",
    "    tfidf_sent_vectors_test.append(sent_vec)\n",
    "    \n",
    "    \n",
    "auc_train_list=[]\n",
    "auc_cv_list=[]\n",
    "c=[10**-5, 10**-4, 10**-3, 10**-2, 10**-1, 1, 10**1, 10**2, 10**3, 10**4, 10**5]\n",
    "for i in c:\n",
    "    model=LogisticRegression(penalty='l1', C=i)\n",
    "    model.fit(tfidf_sent_vectors_train, y_train)\n",
    "    pred_train=model.predict_proba(tfidf_sent_vectors_train)[:,1]\n",
    "    pred_cv=model.predict_proba(tfidf_sent_vectors_cv)[:,1]\n",
    "    auc_cv=roc_auc_score(y_cv, pred_cv)\n",
    "    auc_train=roc_auc_score(y_train, pred_train)\n",
    "    auc_cv_list.append(auc_cv)\n",
    "    auc_train_list.append(auc_train)\n",
    "    #print('we are getting auc={x} for C={y}'.format(x=round(auc_cv,3), y=i))\n",
    "    \n",
    "log_c = [math.log(i) for i in c]\n",
    "print('we are getting max auc of {x} on C={y}'.format(x=max(auc_cv_list), y=c[auc_cv_list.index(max(auc_cv_list))]))\n",
    "plt.plot(log_c, auc_cv_list, label='CV data');\n",
    "plt.plot(log_c, auc_train_list, label='Trian Data');\n",
    "plt.legend()\n",
    "plt.xlabel('C Value')\n",
    "plt.ylabel('AUC')\n",
    "plt.title('AUC wrt C')\n",
    "plt.show()\n"
   ]
  },
  {
   "cell_type": "code",
   "execution_count": 84,
   "metadata": {},
   "outputs": [
    {
     "data": {
      "image/png": "[encoded data removed]",
      "text/plain": [
       "<Figure size 432x288 with 1 Axes>"
      ]
     },
     "metadata": {
      "needs_background": "light"
     },
     "output_type": "display_data"
    },
    {
     "name": "stdout",
     "output_type": "stream",
     "text": [
      "------------ plotting confusion matrix ------------\n"
     ]
    },
    {
     "data": {
      "image/png": "[encoded data removed]",
      "text/plain": [
       "<Figure size 432x288 with 2 Axes>"
      ]
     },
     "metadata": {
      "needs_background": "light"
     },
     "output_type": "display_data"
    },
    {
     "data": {
      "image/png": "[encoded data removed]",
      "text/plain": [
       "<Figure size 432x288 with 2 Axes>"
      ]
     },
     "metadata": {
      "needs_background": "light"
     },
     "output_type": "display_data"
    }
   ],
   "source": [
    "#print(\"Now let's train our test data with c={x}\".format(x=c[auc_cv_list.index(max(auc_cv_list))]))\n",
    "#print('-'*14, 'finding auc', '-'*14)\n",
    "\n",
    "model1=LogisticRegression(penalty='l1',C=1)\n",
    "model1.fit(tfidf_sent_vectors_train, y_train)\n",
    "y_pred_test = model1.predict_proba(tfidf_sent_vectors_test)[:,1]\n",
    "y_pred_test_1 = model1.predict(tfidf_sent_vectors_test)\n",
    "y_pred_train = model1.predict_proba(tfidf_sent_vectors_train)[:,1]\n",
    "y_pred_train_1 = model1.predict(tfidf_sent_vectors_train)\n",
    "\n",
    "#plotting ROC curve of test data\n",
    "\n",
    "fpr_test, tpr_test, threshold = roc_curve(y_test, y_pred_test)\n",
    "fpr_train, tpr_train, threshold = roc_curve(y_train, y_pred_train)\n",
    "plt.plot([0,1], [0,1], linestyle='--')\n",
    "plt.plot(fpr_train, tpr_train, marker='.', label='Train Auc={x}'.format(x=round(auc(fpr_train,tpr_train),3)))\n",
    "plt.plot(fpr_test, tpr_test, marker='.', label='Test Auc={x}'.format(x=round(auc(fpr_test,tpr_test),3)))\n",
    "plt.legend()\n",
    "plt.xlabel('False Psotive Rate')\n",
    "plt.ylabel('True Positive Rate')\n",
    "plt.show()\n",
    "\n",
    "print('-'*12, 'plotting confusion matrix', '-'*12)\n",
    "skplt.plot_confusion_matrix(y_test, y_pred_test_1);\n",
    "plt.title('Confusion matrix Test')\n",
    "plt.show()\n",
    "\n",
    "skplt.plot_confusion_matrix(y_train, y_pred_train_1);\n",
    "plt.title('Confusion matrix Train')\n",
    "plt.show();"
   ]
  },
  {
   "cell_type": "markdown",
   "metadata": {
    "colab_type": "text",
    "id": "ynUK2tYDLPps"
   },
   "source": [
    "### [5.4.2] Applying Logistic Regression with L2 regularization on TFIDF W2V,<font color='red'> SET 4</font>"
   ]
  },
  {
   "cell_type": "code",
   "execution_count": 86,
   "metadata": {
    "colab": {},
    "colab_type": "code",
    "id": "hVYuiXl2LPpt"
   },
   "outputs": [
    {
     "name": "stderr",
     "output_type": "stream",
     "text": [
      "100%|██████████| 32000/32000 [08:25<00:00, 63.27it/s]\n",
      "100%|██████████| 10000/10000 [02:38<00:00, 63.09it/s]\n",
      "100%|██████████| 8000/8000 [02:08<00:00, 62.14it/s]\n"
     ]
    },
    {
     "name": "stdout",
     "output_type": "stream",
     "text": [
      "we are getting max auc of 0.5155321429776428 on C=0.01\n"
     ]
    },
    {
     "data": {
      "image/png": "[encoded data removed]",
      "text/plain": [
       "<Figure size 432x288 with 1 Axes>"
      ]
     },
     "metadata": {
      "needs_background": "light"
     },
     "output_type": "display_data"
    }
   ],
   "source": [
    "from sklearn.model_selection import train_test_split\n",
    "from sklearn.feature_extraction.text import CountVectorizer\n",
    "from sklearn.feature_extraction.text import TfidfVectorizer\n",
    "from sklearn.metrics import roc_auc_score\n",
    "import matplotlib.pyplot as plt\n",
    "from sklearn.metrics import roc_curve\n",
    "import scikitplot.metrics as skplt\n",
    "from sklearn.metrics import auc\n",
    "\n",
    "y=filtered_data['Score'][:50000]\n",
    "\n",
    "df_2=pd.read_pickle('preprocess_reviews')\n",
    "x=df_2[:50000]\n",
    "x_tr, x_cv, y_tr, y_cv = train_test_split(x, y, test_size=0.2)\n",
    "x_train, x_test, y_train, y_test = train_test_split(x_tr, y_tr, test_size=0.2)\n",
    "\n",
    "#X_train\n",
    "\n",
    "model_train = TfidfVectorizer()\n",
    "model_train.fit(x_train)\n",
    "tf_idf_matrix = model_train.transform(x_train)\n",
    "# we are converting a dictionary with word as a key, and the idf as a value\n",
    "dictionary_train = dict(zip(model_train.get_feature_names(), list(model_train.idf_)))\n",
    "    \n",
    "# TF-IDF weighted Word2Vec\n",
    "tfidf_feat_train = model_train.get_feature_names() # tfidf words/col-names\n",
    "# final_tf_idf is the sparse matrix with row= sentence, col=word and cell_val = tfidf\n",
    "\n",
    "tfidf_sent_vectors_train = []; # the tfidf-w2v for each sentence/review is stored in this list\n",
    "\n",
    "list_of_sentence_train=[]\n",
    "for i in x_train:\n",
    "    list_of_sentence_train.append(i.split())\n",
    "    \n",
    "for sent in tqdm(list_of_sentence_train): # for each review/sentence \n",
    "    sent_vec = np.zeros(50) # as word vectors are of zero length\n",
    "    weight_sum =0; # num of words with a valid vector in the sentence/review\n",
    "    for word in sent: # for each word in a review/sentence\n",
    "        if word in w2v_words_train and word in tfidf_feat_train:\n",
    "            vec = w2v_model_train.wv[word]\n",
    "#             tf_idf = tf_idf_matrix[row, tfidf_feat.index(word)]\n",
    "            # to reduce the computation we are \n",
    "            # dictionary[word] = idf value of word in whole courpus\n",
    "            # sent.count(word) = tf valeus of word in this review\n",
    "            tf_idf = dictionary_train[word]*(sent.count(word)/len(sent))\n",
    "            sent_vec += (vec * tf_idf)\n",
    "            weight_sum += tf_idf\n",
    "    if weight_sum != 0:\n",
    "        sent_vec /= weight_sum\n",
    "    tfidf_sent_vectors_train.append(sent_vec)\n",
    "\n",
    "# X_CV\n",
    "\n",
    "tf_idf_matrix = model_train.transform(x_cv)\n",
    "# we are converting a dictionary with word as a key, and the idf as a value\n",
    "dictionary_cv = dict(zip(model_train.get_feature_names(), list(model_train.idf_)))\n",
    "    \n",
    "# TF-IDF weighted Word2Vec\n",
    "tfidf_feat_cv = model_train.get_feature_names() # tfidf words/col-names\n",
    "# final_tf_idf is the sparse matrix with row= sentence, col=word and cell_val = tfidf\n",
    "\n",
    "tfidf_sent_vectors_cv = []; # the tfidf-w2v for each sentence/review is stored in this list\n",
    "\n",
    "list_of_sentence_cv=[]\n",
    "for i in x_cv:\n",
    "    list_of_sentence_cv.append(i.split())\n",
    "    \n",
    "for sent in tqdm(list_of_sentence_cv): # for each review/sentence \n",
    "    sent_vec = np.zeros(50) # as word vectors are of zero length\n",
    "    weight_sum =0; # num of words with a valid vector in the sentence/review\n",
    "    for word in sent: # for each word in a review/sentence\n",
    "        if word in w2v_words_train and word in tfidf_feat_cv:\n",
    "            vec = w2v_model_train.wv[word]\n",
    "#             tf_idf = tf_idf_matrix[row, tfidf_feat.index(word)]\n",
    "            # to reduce the computation we are \n",
    "            # dictionary[word] = idf value of word in whole courpus\n",
    "            # sent.count(word) = tf valeus of word in this review\n",
    "            tf_idf = dictionary_cv[word]*(sent.count(word)/len(sent))\n",
    "            sent_vec += (vec * tf_idf)\n",
    "            weight_sum += tf_idf\n",
    "    if weight_sum != 0:\n",
    "        sent_vec /= weight_sum\n",
    "    tfidf_sent_vectors_cv.append(sent_vec)\n",
    "\n",
    "#x_test\n",
    "\n",
    "\n",
    "tf_idf_matrix = model_train.transform(x_test)\n",
    "# we are converting a dictionary with word as a key, and the idf as a value\n",
    "dictionary_test = dict(zip(model_train.get_feature_names(), list(model_train.idf_)))\n",
    "    \n",
    "# TF-IDF weighted Word2Vec\n",
    "tfidf_feat_test = model_train.get_feature_names() # tfidf words/col-names\n",
    "# final_tf_idf is the sparse matrix with row= sentence, col=word and cell_val = tfidf\n",
    "\n",
    "tfidf_sent_vectors_test = []; # the tfidf-w2v for each sentence/review is stored in this list\n",
    "\n",
    "list_of_sentence_test=[]\n",
    "for i in x_test:\n",
    "    list_of_sentence_test.append(i.split())\n",
    "    \n",
    "for sent in tqdm(list_of_sentence_test): # for each review/sentence \n",
    "    sent_vec = np.zeros(50) # as word vectors are of zero length\n",
    "    weight_sum =0; # num of words with a valid vector in the sentence/review\n",
    "    for word in sent: # for each word in a review/sentence\n",
    "        if word in w2v_words_train and word in tfidf_feat_test:\n",
    "            vec = w2v_model_train.wv[word]\n",
    "#             tf_idf = tf_idf_matrix[row, tfidf_feat.index(word)]\n",
    "            # to reduce the computation we are \n",
    "            # dictionary[word] = idf value of word in whole courpus\n",
    "            # sent.count(word) = tf valeus of word in this review\n",
    "            tf_idf = dictionary_test[word]*(sent.count(word)/len(sent))\n",
    "            sent_vec += (vec * tf_idf)\n",
    "            weight_sum += tf_idf\n",
    "    if weight_sum != 0:\n",
    "        sent_vec /= weight_sum\n",
    "    tfidf_sent_vectors_test.append(sent_vec)\n",
    "    \n",
    "    \n",
    "auc_train_list=[]\n",
    "auc_cv_list=[]\n",
    "c=[10**-5, 10**-4, 10**-3, 10**-2, 10**-1, 1, 10**1, 10**2, 10**3, 10**4, 10**5]\n",
    "for i in c:\n",
    "    model=LogisticRegression(penalty='l2', C=i)\n",
    "    model.fit(tfidf_sent_vectors_train, y_train)\n",
    "    pred_train=model.predict_proba(tfidf_sent_vectors_train)[:,1]\n",
    "    pred_cv=model.predict_proba(tfidf_sent_vectors_cv)[:,1]\n",
    "    auc_cv=roc_auc_score(y_cv, pred_cv)\n",
    "    auc_train=roc_auc_score(y_train, pred_train)\n",
    "    auc_cv_list.append(auc_cv)\n",
    "    auc_train_list.append(auc_train)\n",
    "    #print('we are getting auc={x} for C={y}'.format(x=round(auc_cv,3), y=i))\n",
    "    \n",
    "log_c = [math.log(i) for i in c]\n",
    "print('we are getting max auc of {x} on C={y}'.format(x=max(auc_cv_list), y=c[auc_cv_list.index(max(auc_cv_list))]))\n",
    "plt.plot(log_c, auc_cv_list, label='CV data');\n",
    "plt.plot(log_c, auc_train_list, label='Trian Data');\n",
    "plt.legend()\n",
    "plt.xlabel('C Value')\n",
    "plt.ylabel('AUC')\n",
    "plt.title('AUC wrt C')\n",
    "plt.show()\n"
   ]
  },
  {
   "cell_type": "code",
   "execution_count": 87,
   "metadata": {},
   "outputs": [
    {
     "data": {
      "image/png": "[encoded data removed]",
      "text/plain": [
       "<Figure size 432x288 with 1 Axes>"
      ]
     },
     "metadata": {
      "needs_background": "light"
     },
     "output_type": "display_data"
    },
    {
     "name": "stdout",
     "output_type": "stream",
     "text": [
      "------------ plotting confusion matrix ------------\n"
     ]
    },
    {
     "data": {
      "image/png": "[encoded data removed]",
      "text/plain": [
       "<Figure size 432x288 with 2 Axes>"
      ]
     },
     "metadata": {
      "needs_background": "light"
     },
     "output_type": "display_data"
    },
    {
     "data": {
      "image/png": "[encoded data removed]",
      "text/plain": [
       "<Figure size 432x288 with 2 Axes>"
      ]
     },
     "metadata": {
      "needs_background": "light"
     },
     "output_type": "display_data"
    }
   ],
   "source": [
    "#print(\"Now let's train our test data with c={x}\".format(x=c[auc_cv_list.index(max(auc_cv_list))]))\n",
    "#print('-'*14, 'finding auc', '-'*14)\n",
    "\n",
    "model1=LogisticRegression(penalty='l2',C=10**-3)\n",
    "model1.fit(tfidf_sent_vectors_train, y_train)\n",
    "y_pred_test = model1.predict_proba(tfidf_sent_vectors_test)[:,1]\n",
    "y_pred_test_1 = model1.predict(tfidf_sent_vectors_test)\n",
    "y_pred_train = model1.predict_proba(tfidf_sent_vectors_train)[:,1]\n",
    "y_pred_train_1 = model1.predict(tfidf_sent_vectors_train)\n",
    "\n",
    "#plotting ROC curve of test data\n",
    "\n",
    "fpr_test, tpr_test, threshold = roc_curve(y_test, y_pred_test)\n",
    "fpr_train, tpr_train, threshold = roc_curve(y_train, y_pred_train)\n",
    "plt.plot([0,1], [0,1], linestyle='--')\n",
    "plt.plot(fpr_train, tpr_train, marker='.', label='Train Auc={x}'.format(x=round(auc(fpr_train,tpr_train),3)))\n",
    "plt.plot(fpr_test, tpr_test, marker='.', label='Test Auc={x}'.format(x=round(auc(fpr_test,tpr_test),3)))\n",
    "plt.legend()\n",
    "plt.xlabel('False Psotive Rate')\n",
    "plt.ylabel('True Positive Rate')\n",
    "plt.show()\n",
    "\n",
    "print('-'*12, 'plotting confusion matrix', '-'*12)\n",
    "skplt.plot_confusion_matrix(y_test, y_pred_test_1);\n",
    "plt.title('Confusion matrix Test')\n",
    "plt.show()\n",
    "\n",
    "skplt.plot_confusion_matrix(y_train, y_pred_train_1);\n",
    "plt.title('Confusion matrix Train')\n",
    "plt.show();"
   ]
  },
  {
   "cell_type": "markdown",
   "metadata": {
    "colab_type": "text",
    "id": "nOvsBNf2LPpv"
   },
   "source": [
    "# [6] Conclusions"
   ]
  },
  {
   "cell_type": "code",
   "execution_count": 5,
   "metadata": {
    "colab": {},
    "colab_type": "code",
    "id": "T7VxD0q2LPpw"
   },
   "outputs": [
    {
     "name": "stdout",
     "output_type": "stream",
     "text": [
      "+---------------+-------+-----------------+-------+\n",
      "|   Vectorizer  | Model | Hyper_Parameter |  AUC  |\n",
      "+---------------+-------+-----------------+-------+\n",
      "|      Bow      |   L1  |       0.01      | 0.518 |\n",
      "|      Bow      |   L2  |      0.001      | 0.511 |\n",
      "|     TFIDF     |   L1  |       0.1       |  0.50 |\n",
      "|     TFIDF     |   L2  |      0.001      | 0.502 |\n",
      "|    Avg W2v    |   L1  |       0.01      | 0.506 |\n",
      "|    Avg w2v    |   L2  |       0.01      |  0.50 |\n",
      "| TFIDF avg w2v |   L1  |        1        | 0.511 |\n",
      "| TFIDF avg w2v |   L2  |      0.001      | 0.494 |\n",
      "+---------------+-------+-----------------+-------+\n"
     ]
    }
   ],
   "source": [
    "from prettytable import PrettyTable\n",
    "x=PrettyTable()\n",
    "\n",
    "x.field_names=['Vectorizer', 'Model', 'Hyper_Parameter', 'AUC']\n",
    "x.add_row(['Bow','L1','0.01', '0.518'])\n",
    "x.add_row(['Bow', 'L2', '0.001', '0.511'])\n",
    "x.add_row(['TFIDF', 'L1', '0.1', '0.50'])\n",
    "x.add_row(['TFIDF', 'L2', '0.001', '0.502'])\n",
    "x.add_row(['Avg W2v', 'L1', '0.01', '0.506'])\n",
    "x.add_row(['Avg w2v', 'L2', '0.01', '0.50'])\n",
    "x.add_row(['TFIDF avg w2v', 'L1', '1', '0.511'])\n",
    "x.add_row(['TFIDF avg w2v', 'L2', '0.001', '0.494'])\n",
    "\n",
    "print(x)"
   ]
  }
 ],
 "metadata": {
  "colab": {
   "name": "05 Amazon Fine Food Reviews Analysis_Logistic Regression.ipynb",
   "provenance": [],
   "version": "0.3.2"
  },
  "kernelspec": {
   "display_name": "Python 3",
   "language": "python",
   "name": "python3"
  },
  "language_info": {
   "codemirror_mode": {
    "name": "ipython",
    "version": 3
   },
   "file_extension": ".py",
   "mimetype": "text/x-python",
   "name": "python",
   "nbconvert_exporter": "python",
   "pygments_lexer": "ipython3",
   "version": "3.6.7"
  }
 },
 "nbformat": 4,
 "nbformat_minor": 1
}
